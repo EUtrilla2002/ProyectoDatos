{
  "nbformat": 4,
  "nbformat_minor": 0,
  "metadata": {
    "colab": {
      "provenance": [],
      "mount_file_id": "https://github.com/EUtrilla2002/ProyectoDatos/blob/main/0-EDA_analisis_base_datos.ipynb",
      "authorship_tag": "ABX9TyNnoaGEfHD0e8a7F48OqMgg",
      "include_colab_link": true
    },
    "kernelspec": {
      "name": "python3",
      "display_name": "Python 3"
    },
    "language_info": {
      "name": "python"
    }
  },
  "cells": [
    {
      "cell_type": "markdown",
      "metadata": {
        "id": "view-in-github",
        "colab_type": "text"
      },
      "source": [
        "<a href=\"https://colab.research.google.com/github/EUtrilla2002/ProyectoDatos/blob/main/0-EDA_analisis_base_datos_EUA.ipynb\" target=\"_parent\"><img src=\"https://colab.research.google.com/assets/colab-badge.svg\" alt=\"Open In Colab\"/></a>"
      ]
    },
    {
      "cell_type": "markdown",
      "source": [
        "## Análisis de datos"
      ],
      "metadata": {
        "id": "ud0eRRZghzgG"
      }
    },
    {
      "cell_type": "code",
      "execution_count": null,
      "metadata": {
        "id": "M9p5Fd97VQDL",
        "outputId": "6e522c50-af9a-415b-b206-4b68508d096a",
        "colab": {
          "base_uri": "https://localhost:8080/"
        }
      },
      "outputs": [
        {
          "output_type": "stream",
          "name": "stdout",
          "text": [
            "Descompresión completa.\n"
          ]
        }
      ],
      "source": [
        "import zipfile\n",
        "import os\n",
        "\n",
        "zip_path = \"/content/drive/MyDrive/Datos/archive.zip\"  # Reemplaza con el nombre de tu archivo ZIP\n",
        "extract_path = \"/content/drive/MyDrive/Datos/contenido_zip\"  # Carpeta donde se extraerán los archivos\n",
        "\n",
        "# Crear carpeta si no existe\n",
        "os.makedirs(extract_path, exist_ok=True)\n",
        "\n",
        "# Descomprimir el ZIP\n",
        "with zipfile.ZipFile(zip_path, 'r') as zip_ref:\n",
        "    zip_ref.extractall(extract_path)\n",
        "\n",
        "print(\"Descompresión completa.\")"
      ]
    },
    {
      "cell_type": "markdown",
      "source": [
        "## Bases de datos"
      ],
      "metadata": {
        "id": "ppcINLsth7a8"
      }
    },
    {
      "cell_type": "code",
      "source": [
        "import pandas as pd\n",
        "\n",
        "# Cargar los datasets (pueden estar en CSV, Excel, etc.)\n",
        "df1 = pd.read_csv(\"/content/drive/MyDrive/Datos/contenido_zip/Books_rating.csv\")  # Primera base de datos\n",
        "#df2 = pd.read_csv(\"/content/drive/MyDrive/Datos/contenido_zip/books_data.csv\")  # Segunda base de datos\n"
      ],
      "metadata": {
        "id": "TCB0WbK_h97v"
      },
      "execution_count": null,
      "outputs": []
    },
    {
      "cell_type": "code",
      "source": [
        "\n",
        "# Ver los primeros registros (opcional)\n",
        "print(df1.columns)"
      ],
      "metadata": {
        "id": "ZDm-dedn6V2M",
        "outputId": "8ed129c8-6c60-498c-db3d-a099fe811896",
        "colab": {
          "base_uri": "https://localhost:8080/"
        }
      },
      "execution_count": null,
      "outputs": [
        {
          "output_type": "stream",
          "name": "stdout",
          "text": [
            "Index(['Id', 'Title', 'Price', 'User_id', 'profileName', 'review/helpfulness',\n",
            "       'review/score', 'review/time', 'review/summary', 'review/text'],\n",
            "      dtype='object')\n"
          ]
        }
      ]
    },
    {
      "cell_type": "markdown",
      "source": [
        "Elegimos aquella base de datos que contenga las reviews y su calificación (es decir, la base de datos 1)"
      ],
      "metadata": {
        "id": "ozZhpV7w36Rk"
      }
    },
    {
      "cell_type": "markdown",
      "source": [
        "## Eliminación de columnas"
      ],
      "metadata": {
        "id": "KYI1FNsdiPeL"
      }
    },
    {
      "cell_type": "markdown",
      "source": [
        "Echamos un vistazo a la situación de nuestro dataset para ver qué datos pueden sernos útiles"
      ],
      "metadata": {
        "id": "yoQxzXCW7Zmj"
      }
    },
    {
      "cell_type": "code",
      "source": [
        "# Contar NaN en cada columna\n",
        "nan_counts = df1.isna().sum()\n",
        "\n",
        "# Mostrar resultado\n",
        "print(nan_counts)"
      ],
      "metadata": {
        "colab": {
          "base_uri": "https://localhost:8080/"
        },
        "outputId": "70b73859-c374-42ee-a156-a0b4983f15e6",
        "id": "0bpluj3th853"
      },
      "execution_count": null,
      "outputs": [
        {
          "output_type": "stream",
          "name": "stdout",
          "text": [
            "Id                          0\n",
            "Title                     208\n",
            "Price                 2518829\n",
            "User_id                561787\n",
            "profileName            561905\n",
            "review/helpfulness          0\n",
            "review/score                0\n",
            "review/time                 0\n",
            "review/summary            407\n",
            "review/text                 8\n",
            "dtype: int64\n"
          ]
        }
      ]
    },
    {
      "cell_type": "markdown",
      "source": [
        "Sabiendo nuestro objetivo y viendo los datos faltantes, sacamos las siguientes conclusiones:\n",
        "\n",
        "\n",
        "*   Eliminamos información relativa al libro (Título, id y precio) ya que no es relevante en este caso para el modelo NLP\n",
        "*   Eliminamos de la información relativa a la review el tiempo (que en este caso no es relevante) y los resúmenes (ya que puede ser información reiterativa de las reviews). eliminamos helpfullness ya que no sigue la misma escala en todos los casos\n",
        "\n",
        "*  Eliminamos información relativa al cliente que hizo la review (User_id, profileName) para anonimizar y generalizar nuestro estudio.\n",
        "\n",
        "*  Eliminamos aquellas entradas que no tengan review/text (las 8 mostradas anteriormente)\n",
        "\n",
        "\n"
      ],
      "metadata": {
        "id": "_mGXmSza7igP"
      }
    },
    {
      "cell_type": "code",
      "source": [
        "df_final = df1.drop(columns=[\"Id\",\"Title\",\"Price\",\"User_id\",\"profileName\",\"review/time\",\"review/helpfulness\",\"review/summary\"])\n",
        "df_final = df_final.dropna()\n",
        "\n",
        "\n",
        "df_final.head()"
      ],
      "metadata": {
        "colab": {
          "base_uri": "https://localhost:8080/",
          "height": 206
        },
        "id": "mFLvw1dZigzV",
        "outputId": "17d6fb1c-b0b5-4ce2-975e-d8b4a5f45166"
      },
      "execution_count": null,
      "outputs": [
        {
          "output_type": "execute_result",
          "data": {
            "text/plain": [
              "   review/score                                        review/text\n",
              "0           4.0  This is only for Julie Strain fans. It's a col...\n",
              "1           5.0  I don't care much for Dr. Seuss but after read...\n",
              "2           5.0  If people become the books they read and if \"t...\n",
              "3           4.0  Theodore Seuss Geisel (1904-1991), aka &quot;D...\n",
              "4           4.0  Philip Nel - Dr. Seuss: American IconThis is b..."
            ],
            "text/html": [
              "\n",
              "  <div id=\"df-57853407-1e25-4930-8f2e-4ae4aff1b450\" class=\"colab-df-container\">\n",
              "    <div>\n",
              "<style scoped>\n",
              "    .dataframe tbody tr th:only-of-type {\n",
              "        vertical-align: middle;\n",
              "    }\n",
              "\n",
              "    .dataframe tbody tr th {\n",
              "        vertical-align: top;\n",
              "    }\n",
              "\n",
              "    .dataframe thead th {\n",
              "        text-align: right;\n",
              "    }\n",
              "</style>\n",
              "<table border=\"1\" class=\"dataframe\">\n",
              "  <thead>\n",
              "    <tr style=\"text-align: right;\">\n",
              "      <th></th>\n",
              "      <th>review/score</th>\n",
              "      <th>review/text</th>\n",
              "    </tr>\n",
              "  </thead>\n",
              "  <tbody>\n",
              "    <tr>\n",
              "      <th>0</th>\n",
              "      <td>4.0</td>\n",
              "      <td>This is only for Julie Strain fans. It's a col...</td>\n",
              "    </tr>\n",
              "    <tr>\n",
              "      <th>1</th>\n",
              "      <td>5.0</td>\n",
              "      <td>I don't care much for Dr. Seuss but after read...</td>\n",
              "    </tr>\n",
              "    <tr>\n",
              "      <th>2</th>\n",
              "      <td>5.0</td>\n",
              "      <td>If people become the books they read and if \"t...</td>\n",
              "    </tr>\n",
              "    <tr>\n",
              "      <th>3</th>\n",
              "      <td>4.0</td>\n",
              "      <td>Theodore Seuss Geisel (1904-1991), aka &amp;quot;D...</td>\n",
              "    </tr>\n",
              "    <tr>\n",
              "      <th>4</th>\n",
              "      <td>4.0</td>\n",
              "      <td>Philip Nel - Dr. Seuss: American IconThis is b...</td>\n",
              "    </tr>\n",
              "  </tbody>\n",
              "</table>\n",
              "</div>\n",
              "    <div class=\"colab-df-buttons\">\n",
              "\n",
              "  <div class=\"colab-df-container\">\n",
              "    <button class=\"colab-df-convert\" onclick=\"convertToInteractive('df-57853407-1e25-4930-8f2e-4ae4aff1b450')\"\n",
              "            title=\"Convert this dataframe to an interactive table.\"\n",
              "            style=\"display:none;\">\n",
              "\n",
              "  <svg xmlns=\"http://www.w3.org/2000/svg\" height=\"24px\" viewBox=\"0 -960 960 960\">\n",
              "    <path d=\"M120-120v-720h720v720H120Zm60-500h600v-160H180v160Zm220 220h160v-160H400v160Zm0 220h160v-160H400v160ZM180-400h160v-160H180v160Zm440 0h160v-160H620v160ZM180-180h160v-160H180v160Zm440 0h160v-160H620v160Z\"/>\n",
              "  </svg>\n",
              "    </button>\n",
              "\n",
              "  <style>\n",
              "    .colab-df-container {\n",
              "      display:flex;\n",
              "      gap: 12px;\n",
              "    }\n",
              "\n",
              "    .colab-df-convert {\n",
              "      background-color: #E8F0FE;\n",
              "      border: none;\n",
              "      border-radius: 50%;\n",
              "      cursor: pointer;\n",
              "      display: none;\n",
              "      fill: #1967D2;\n",
              "      height: 32px;\n",
              "      padding: 0 0 0 0;\n",
              "      width: 32px;\n",
              "    }\n",
              "\n",
              "    .colab-df-convert:hover {\n",
              "      background-color: #E2EBFA;\n",
              "      box-shadow: 0px 1px 2px rgba(60, 64, 67, 0.3), 0px 1px 3px 1px rgba(60, 64, 67, 0.15);\n",
              "      fill: #174EA6;\n",
              "    }\n",
              "\n",
              "    .colab-df-buttons div {\n",
              "      margin-bottom: 4px;\n",
              "    }\n",
              "\n",
              "    [theme=dark] .colab-df-convert {\n",
              "      background-color: #3B4455;\n",
              "      fill: #D2E3FC;\n",
              "    }\n",
              "\n",
              "    [theme=dark] .colab-df-convert:hover {\n",
              "      background-color: #434B5C;\n",
              "      box-shadow: 0px 1px 3px 1px rgba(0, 0, 0, 0.15);\n",
              "      filter: drop-shadow(0px 1px 2px rgba(0, 0, 0, 0.3));\n",
              "      fill: #FFFFFF;\n",
              "    }\n",
              "  </style>\n",
              "\n",
              "    <script>\n",
              "      const buttonEl =\n",
              "        document.querySelector('#df-57853407-1e25-4930-8f2e-4ae4aff1b450 button.colab-df-convert');\n",
              "      buttonEl.style.display =\n",
              "        google.colab.kernel.accessAllowed ? 'block' : 'none';\n",
              "\n",
              "      async function convertToInteractive(key) {\n",
              "        const element = document.querySelector('#df-57853407-1e25-4930-8f2e-4ae4aff1b450');\n",
              "        const dataTable =\n",
              "          await google.colab.kernel.invokeFunction('convertToInteractive',\n",
              "                                                    [key], {});\n",
              "        if (!dataTable) return;\n",
              "\n",
              "        const docLinkHtml = 'Like what you see? Visit the ' +\n",
              "          '<a target=\"_blank\" href=https://colab.research.google.com/notebooks/data_table.ipynb>data table notebook</a>'\n",
              "          + ' to learn more about interactive tables.';\n",
              "        element.innerHTML = '';\n",
              "        dataTable['output_type'] = 'display_data';\n",
              "        await google.colab.output.renderOutput(dataTable, element);\n",
              "        const docLink = document.createElement('div');\n",
              "        docLink.innerHTML = docLinkHtml;\n",
              "        element.appendChild(docLink);\n",
              "      }\n",
              "    </script>\n",
              "  </div>\n",
              "\n",
              "\n",
              "<div id=\"df-cfc79885-fa65-461c-b386-540a693f679e\">\n",
              "  <button class=\"colab-df-quickchart\" onclick=\"quickchart('df-cfc79885-fa65-461c-b386-540a693f679e')\"\n",
              "            title=\"Suggest charts\"\n",
              "            style=\"display:none;\">\n",
              "\n",
              "<svg xmlns=\"http://www.w3.org/2000/svg\" height=\"24px\"viewBox=\"0 0 24 24\"\n",
              "     width=\"24px\">\n",
              "    <g>\n",
              "        <path d=\"M19 3H5c-1.1 0-2 .9-2 2v14c0 1.1.9 2 2 2h14c1.1 0 2-.9 2-2V5c0-1.1-.9-2-2-2zM9 17H7v-7h2v7zm4 0h-2V7h2v10zm4 0h-2v-4h2v4z\"/>\n",
              "    </g>\n",
              "</svg>\n",
              "  </button>\n",
              "\n",
              "<style>\n",
              "  .colab-df-quickchart {\n",
              "      --bg-color: #E8F0FE;\n",
              "      --fill-color: #1967D2;\n",
              "      --hover-bg-color: #E2EBFA;\n",
              "      --hover-fill-color: #174EA6;\n",
              "      --disabled-fill-color: #AAA;\n",
              "      --disabled-bg-color: #DDD;\n",
              "  }\n",
              "\n",
              "  [theme=dark] .colab-df-quickchart {\n",
              "      --bg-color: #3B4455;\n",
              "      --fill-color: #D2E3FC;\n",
              "      --hover-bg-color: #434B5C;\n",
              "      --hover-fill-color: #FFFFFF;\n",
              "      --disabled-bg-color: #3B4455;\n",
              "      --disabled-fill-color: #666;\n",
              "  }\n",
              "\n",
              "  .colab-df-quickchart {\n",
              "    background-color: var(--bg-color);\n",
              "    border: none;\n",
              "    border-radius: 50%;\n",
              "    cursor: pointer;\n",
              "    display: none;\n",
              "    fill: var(--fill-color);\n",
              "    height: 32px;\n",
              "    padding: 0;\n",
              "    width: 32px;\n",
              "  }\n",
              "\n",
              "  .colab-df-quickchart:hover {\n",
              "    background-color: var(--hover-bg-color);\n",
              "    box-shadow: 0 1px 2px rgba(60, 64, 67, 0.3), 0 1px 3px 1px rgba(60, 64, 67, 0.15);\n",
              "    fill: var(--button-hover-fill-color);\n",
              "  }\n",
              "\n",
              "  .colab-df-quickchart-complete:disabled,\n",
              "  .colab-df-quickchart-complete:disabled:hover {\n",
              "    background-color: var(--disabled-bg-color);\n",
              "    fill: var(--disabled-fill-color);\n",
              "    box-shadow: none;\n",
              "  }\n",
              "\n",
              "  .colab-df-spinner {\n",
              "    border: 2px solid var(--fill-color);\n",
              "    border-color: transparent;\n",
              "    border-bottom-color: var(--fill-color);\n",
              "    animation:\n",
              "      spin 1s steps(1) infinite;\n",
              "  }\n",
              "\n",
              "  @keyframes spin {\n",
              "    0% {\n",
              "      border-color: transparent;\n",
              "      border-bottom-color: var(--fill-color);\n",
              "      border-left-color: var(--fill-color);\n",
              "    }\n",
              "    20% {\n",
              "      border-color: transparent;\n",
              "      border-left-color: var(--fill-color);\n",
              "      border-top-color: var(--fill-color);\n",
              "    }\n",
              "    30% {\n",
              "      border-color: transparent;\n",
              "      border-left-color: var(--fill-color);\n",
              "      border-top-color: var(--fill-color);\n",
              "      border-right-color: var(--fill-color);\n",
              "    }\n",
              "    40% {\n",
              "      border-color: transparent;\n",
              "      border-right-color: var(--fill-color);\n",
              "      border-top-color: var(--fill-color);\n",
              "    }\n",
              "    60% {\n",
              "      border-color: transparent;\n",
              "      border-right-color: var(--fill-color);\n",
              "    }\n",
              "    80% {\n",
              "      border-color: transparent;\n",
              "      border-right-color: var(--fill-color);\n",
              "      border-bottom-color: var(--fill-color);\n",
              "    }\n",
              "    90% {\n",
              "      border-color: transparent;\n",
              "      border-bottom-color: var(--fill-color);\n",
              "    }\n",
              "  }\n",
              "</style>\n",
              "\n",
              "  <script>\n",
              "    async function quickchart(key) {\n",
              "      const quickchartButtonEl =\n",
              "        document.querySelector('#' + key + ' button');\n",
              "      quickchartButtonEl.disabled = true;  // To prevent multiple clicks.\n",
              "      quickchartButtonEl.classList.add('colab-df-spinner');\n",
              "      try {\n",
              "        const charts = await google.colab.kernel.invokeFunction(\n",
              "            'suggestCharts', [key], {});\n",
              "      } catch (error) {\n",
              "        console.error('Error during call to suggestCharts:', error);\n",
              "      }\n",
              "      quickchartButtonEl.classList.remove('colab-df-spinner');\n",
              "      quickchartButtonEl.classList.add('colab-df-quickchart-complete');\n",
              "    }\n",
              "    (() => {\n",
              "      let quickchartButtonEl =\n",
              "        document.querySelector('#df-cfc79885-fa65-461c-b386-540a693f679e button');\n",
              "      quickchartButtonEl.style.display =\n",
              "        google.colab.kernel.accessAllowed ? 'block' : 'none';\n",
              "    })();\n",
              "  </script>\n",
              "</div>\n",
              "\n",
              "    </div>\n",
              "  </div>\n"
            ],
            "application/vnd.google.colaboratory.intrinsic+json": {
              "type": "dataframe",
              "variable_name": "df_final"
            }
          },
          "metadata": {},
          "execution_count": 13
        }
      ]
    },
    {
      "cell_type": "code",
      "source": [
        "# Contar NaN en cada columna\n",
        "nan_counts = df_final.isna().sum()\n",
        "\n",
        "# Mostrar resultado\n",
        "print(nan_counts)"
      ],
      "metadata": {
        "colab": {
          "base_uri": "https://localhost:8080/"
        },
        "outputId": "91993f3c-a11e-4f3f-c508-d99673620904",
        "id": "kvquKBvb8yFy"
      },
      "execution_count": null,
      "outputs": [
        {
          "output_type": "stream",
          "name": "stdout",
          "text": [
            "review/score    0\n",
            "review/text     0\n",
            "dtype: int64\n"
          ]
        }
      ]
    },
    {
      "cell_type": "code",
      "source": [
        "df_final.to_csv(\"/content/drive/MyDrive/Datos/contenido_zip/base_limpia.csv\", index=False)"
      ],
      "metadata": {
        "id": "J3Ovhx0Vkw3N"
      },
      "execution_count": null,
      "outputs": []
    },
    {
      "cell_type": "markdown",
      "source": [
        "## Análisis de reviews\n",
        "\n",
        "Para saber cómo son las reviews, exploramos 5 descripciones de cada texto manualmente"
      ],
      "metadata": {
        "id": "IRZdD62zD7Cv"
      }
    },
    {
      "cell_type": "code",
      "source": [
        "# Reviews de 1 estrella\n",
        "# Filtrar reviews con score 1.0\n",
        "reviews_1_estrella = df_final[df_final[\"review/score\"] == 1.0]\n",
        "\n",
        "# Seleccionar 5 ejemplos aleatorios\n",
        "ejemplos = reviews_1_estrella.sample(n=5, random_state=42)\n",
        "\n",
        "# Imprimir los textos completos\n",
        "for i, texto in enumerate(ejemplos[\"review/text\"], 1):\n",
        "    print(f\"\\n--- Review {i} ---\\n{texto}\\n\")\n",
        "\n",
        "\n"
      ],
      "metadata": {
        "id": "gzFAx_S7DMyB",
        "outputId": "3f6f5684-b7f9-48fd-de1b-e8f2cdc0d273",
        "colab": {
          "base_uri": "https://localhost:8080/"
        }
      },
      "execution_count": null,
      "outputs": [
        {
          "output_type": "stream",
          "name": "stdout",
          "text": [
            "\n",
            "--- Review 1 ---\n",
            "I thought that this book was not useful at all and I really regret buying it. I thought the names were original but maybe a bit too original. I will be looking out for a similar book, but when buying one next time I will take a bit more care.\n",
            "\n",
            "\n",
            "--- Review 2 ---\n",
            "This book was slow and it was difficult to get myself to finish reading it.\n",
            "\n",
            "\n",
            "--- Review 3 ---\n",
            "Our Sunday School used this book for a quarter, and I could hardly wait until we were done. Liz's humor got to me -- one woman in our class said it is hard to read some of the rough, crude things. I love humor, BUT.............her writing turns me off completely. They had the video to go with the book yesterday and she is just too silly for a mature Christian!\n",
            "\n",
            "\n",
            "--- Review 4 ---\n",
            "Any single aspect of Precious' life is believable, and many multiple aspects such as illiteracy and abuse. But when combined with all the other societal maladies Precious embodies, the book descends into crass tearjerker territory and becomes utterly ridiculous. Precious' litany of woes are tools the author uses to bludgeon us with in a phony and near pornographic cry against injustice. Lets see now, raped since twelve, sexual abuse from mother, sexual abuse from father, pregnancy, Down's Syndrome baby, physical abuse, racism (hers), ignorance, she's morbidly obese and AIDS. If she'd had a pet it would have been murdered and served to her for dinner. Oh the humanity! But Precious isn't real, she's a construct from an author with an agenda: no male characters of ANY worth, only good character is a lesbian teacher (of course) and its all societies fault. Talk about exploitation, sheesh. I expected social critique on the level of Upton Sinclair, instead I got propaganda at the level of The Protocols of the Elders of Zion.\n",
            "\n",
            "\n",
            "--- Review 5 ---\n",
            "This book is one of those books that people talk about a lot, but probably never actually read. If Burroughs's intention is to shock, sicken, and disgust the reader, then he accomplishes that task. Not only hard to understand (does it even HAVE a point??), but grotesquely profane, &quot;Naked Lunch&quot; isn't worth the paper it's printed on. Save yourself the money, and rent the film instead, which has absolutley nothing to do with the book.\n",
            "\n"
          ]
        }
      ]
    },
    {
      "cell_type": "code",
      "source": [],
      "metadata": {
        "id": "6c6HHWixH-tR"
      },
      "execution_count": null,
      "outputs": []
    },
    {
      "cell_type": "code",
      "source": [
        "# Reviews de 2 estrella\n",
        "# Filtrar reviews con score 1.0\n",
        "reviews_2_estrella = df_final[df_final[\"review/score\"] == 2.0]\n",
        "\n",
        "# Seleccionar 5 ejemplos aleatorios\n",
        "ejemplos = reviews_2_estrella.sample(n=5, random_state=42)\n",
        "\n",
        "# Imprimir los textos completos\n",
        "for i, texto in enumerate(ejemplos[\"review/text\"], 1):\n",
        "    print(f\"\\n--- Review {i} ---\\n{texto}\\n\")\n"
      ],
      "metadata": {
        "id": "DQuyZD21HPFN",
        "outputId": "cd512353-ac26-427f-8fd5-868d6dc59fda",
        "colab": {
          "base_uri": "https://localhost:8080/"
        }
      },
      "execution_count": null,
      "outputs": [
        {
          "output_type": "stream",
          "name": "stdout",
          "text": [
            "\n",
            "--- Review 1 ---\n",
            "I have to agree with most of the other reviews. As thick as this book is, the plot goes basically nowhere. Right up until the very last page, Mat is the only character who actually *does* anything, and it's not even all that much. In the meantime, we have to agonize over name after name after name, trying to remember the significance of minor characters introduced 2 or 3 or 4 books ago. Or we try to trudge through paragraph after paragraph of superfluous descriptions, more than in any of the previous books.I thought that the monumental events at the end of book 9 signified exciting changes, and yet nothing changes. Though the first half of this book occurs during book 9's big event, even after book 10 catches up with that point nothing comes of it. Instead we have Rand complaining about not having time to handle serious issues, all while he sits around doing nothing! We have Perrin fuming and buying grain! We have Elayne plotting!In the previous 4 or so books, I felt like the series took two steps back for every three steps forward. In the case of Book 10, no steps forward and one step back.\n",
            "\n",
            "\n",
            "--- Review 2 ---\n",
            "Not a bad book per se; however the notation and explanations are a bit obscure and the text is not well structured. It looks like an almost unprocessed set of lecture notes. Green's and Amemiya's books are certainly preferrable to this one.\n",
            "\n",
            "\n",
            "--- Review 3 ---\n",
            "As someone who really liked Fight Club, Rant, and Choke, I found Invisible Monsters to be a real disappointment. I'm sure there's some literary philosophical value to it udner the surface, but the surface of the story was just too boring for me to care. I was really tempted to quit about 1/2 way through but plodded through the rest just to get it over.I found the narrator \"model\" to be boring. Even with a face shot off and living a road trip with a transgendered circus, she didn't hold my interest. None of the characters made me care whether they lived or died and so after the opening scene with blood and a fire, I never really could care about the 200 pages of intervening flashbacks before we got back to the opening fire and death again.Maybe that's how Chuck wanted us to feel reading this. There's a lot of naval gazing by the characters and post-teen angst about their awful lives. But I just found it boring. Paint drying boring.\n",
            "\n",
            "\n",
            "--- Review 4 ---\n",
            "I've enjoyed all of the books that I've read by author Joyce Carol Oates, except this one. She has portrayed the angst of adolescence so beautifully in previous novels. What happened?Oates introduces the reader to fascinating people: mysterious John Reddy Heart, his luminescent mother and eccentric grandfather, but fails to flesh-out the characters, to establish deep family ties. Curiously, Heart's little brother becomes a computer industry tycoon and his pathetic little sister becomes a \"famous\" nun. If they had grown up to be less prominent citizens would that have diminished the plot?The sensuality of being \"young and restless\" was ever-present as was the loss of that vitality 30 years later at the high-school reunion. In spite of the fact that the story was episodic, disjointed, I couldn't help but wonder what was the allure of John Reddy Heart (more saint than sinner). Alas, if only the story had been told from the \"heart.\"\n",
            "\n",
            "\n",
            "--- Review 5 ---\n",
            "I usually enjoy reading Clancy's novels, but this must be his worst. I tried to finish the book, but it took me almost three months. The story is highly repetitious, with similar incidents throughout the first half of the book. The prose was too verbose. The book could have been half the length and would have been better. Worse yet, Clancy was offbase in his over-eagerness to introduce new technologies, and promoted the DKL Lifeguard (supposedly a human presence detector), which was proven in a later Department of Justice double-blind study to perform no better than random chance, and upon a physical engineering dissection by Sandia National Lab, found to contain a block of plastic with a human hair in it as the active sensing element! Shame to Mr. Clancy for falling for that. One would have thought that someone who had been exposed to so much hi-tech through all his research would have had better sense.\n",
            "\n"
          ]
        }
      ]
    },
    {
      "cell_type": "code",
      "source": [
        "# Reviews de 3 estrella\n",
        "# Filtrar reviews con score 3.0\n",
        "reviews_3_estrella = df_final[df_final[\"review/score\"] == 3.0]\n",
        "\n",
        "# Seleccionar 5 ejemplos aleatorios\n",
        "ejemplos = reviews_3_estrella.sample(n=5, random_state=42)\n",
        "\n",
        "# Imprimir los textos completos\n",
        "for i, texto in enumerate(ejemplos[\"review/text\"], 1):\n",
        "    print(f\"\\n--- Review {i} ---\\n{texto}\\n\")"
      ],
      "metadata": {
        "id": "vsK7pZCrILZz",
        "outputId": "0e26528b-7b68-41b8-90ab-4697d0c1bf87",
        "colab": {
          "base_uri": "https://localhost:8080/"
        }
      },
      "execution_count": null,
      "outputs": [
        {
          "output_type": "stream",
          "name": "stdout",
          "text": [
            "\n",
            "--- Review 1 ---\n",
            "Once again the fact that I bought this second hand should have been my warning.I do not like thee Harry Angstrom, AKA Rabbit. You're a long legged rabbit of a man. Former would be basketball hero and as much a cause of your muddled life as its victim. Much more the cause...I feel about this book pretty much the same as I feel about Billy Bud. Sledged hammered by the obvious and heavy-handed use of symbolism, themes, foreshadowing and the rest of the \"how to read a novel-isms\", that justify so many English classes.Our hero... Nope cant stomach that word for this Harry....Our protagonist is leaving his youth with is future behind him. His life a muddle -we will read that word a lot - and not happy with wife, child, job, neighborhood and what ever.Rabbit has animal appetites, and rabbit sex. He can run, often in circles. Women find him cute. He is easily scared into running some more and he is rather indifferent to favors done for him. Do we need a bushy tail and a wiggly nose or have you worked out his nick name and the book title?It is a testimony to John Updike that he can make the center of this book such a totally unsympathetic person and make this a worthy read. There is majorly superior writing here. Updike is good at giving you hope that this Rabbit, will turn into a man. Dream on.For you students, who have to read this book, remember that the obvious stuff is the key to getting a good grade.For myself I am left wondering how Updike managed to get three more books out of this schlub.Maybe there are some cheap Kindle versions... And what ever happens with the other baby and the also unhappy Mrs Eccles? (O crude - Back into Rabbit world I go)\n",
            "\n",
            "\n",
            "--- Review 2 ---\n",
            "This all-ages comic is relatively good. While it is not going to revolutionalise gothic-esque comic genre, it is better than Lenore and most others of its counterparts.While the manga-style art is just lovely, particularly the frames when Courtney enters the non-human/faery world, the plot is a little meandering and quite weak and basic at times. While I have not read the follow-up works, which may include this element, I would have like to see Courtney explore her own magic a little more. Additionally, there was minimal interaction between Courtney and her grandfather, and yet we are meant to imagine that they had become close allies.I did however feel that the character of Courtney was quite interesting and completely identifiable. Similarly, the parental characters were suitably ghastly and disinterested.This is a short but cute enough read. If only there were more comics examining the same topic of magic and childhood isolation, just slightly more adult and fleshed out.\n",
            "\n",
            "\n",
            "--- Review 3 ---\n",
            "Runaway adventure, romance and suspense are lined up in Nora Robert's opus which spans from the sinking of Lusitania on May 1915 where Greenfield steals an antique Greek statue from Wyley and miraculously survives. The Sullivans who are Greenfield's descendents decides to trace the other two statues to complete the valuable collection. The Irish triumvirate consists of Malachi, the eldest who is attracted to mythology professor Tia Marsh in his information-gathering; Gideon, the second son gets hitched to cynical exotic dancer Cleo while Rebecca falls for Jack Burdett, a security expert who owes the third piece. Ambitious antique collector Anita Gayes is the villain who resorts to murder and deceptions to lay hands on the statues. While Three Fates is a jaunt of an adventure, the plot while sprawling remains assuringly predictable with a cliche villain. Roberts's most vivid portrayal is perhaps Cleo who is the most daring and vivacious out of the three. This resonates too the readers' desire for the more daring experimentation that appears in the earlier works of Ms. Roberts.\n",
            "\n",
            "\n",
            "--- Review 4 ---\n",
            "I read Little Women recently and I would probably reccommend it to anyone that is okay with a sad, romantic book. The main character is Jo, a tomboy growing up in the late 19th century. It is Jo's story as she becomes an adult, and I think it is a great coming-of-age book for both boys and girls. (Girls would probably enjoy it a little more than boys.) Either way, it's a great book and you should read it as soon as you get your hands on it.\n",
            "\n",
            "\n",
            "--- Review 5 ---\n",
            "Personally, I have read 20 or so narratives about the Battle of Gettysburg. This work by Stephen Sears falls a bit short in my opinion but that isn't the authors fault. The Battle of Gettysburg has more one-volume histories than any other battle in existence. It is very difficult to create or add to such a large volume of work and make a big impact. Mr. Sears books are always top-notch and well researched so I do recommend this book to a reader that is new to the battle or new to the Civil War but if you are an esperienced reader than this book won't tell you anything that you haven't learned already. So I think that Sears did a great job and he could do no more than what has already been done.\n",
            "\n"
          ]
        }
      ]
    },
    {
      "cell_type": "code",
      "source": [
        "# Reviews de 4 estrella\n",
        "# Filtrar reviews con score 4.0\n",
        "reviews_4_estrella = df_final[df_final[\"review/score\"] == 4.0]\n",
        "\n",
        "# Seleccionar 5 ejemplos aleatorios\n",
        "ejemplos = reviews_4_estrella.sample(n=5, random_state=42)\n",
        "\n",
        "# Imprimir los textos completos\n",
        "for i, texto in enumerate(ejemplos[\"review/text\"], 1):\n",
        "    print(f\"\\n--- Review {i} ---\\n{texto}\\n\")"
      ],
      "metadata": {
        "id": "YDxsW4rCJSPq",
        "outputId": "22ee32c8-5c1a-4c5c-a5a4-d899eef462ce",
        "colab": {
          "base_uri": "https://localhost:8080/"
        }
      },
      "execution_count": null,
      "outputs": [
        {
          "output_type": "stream",
          "name": "stdout",
          "text": [
            "\n",
            "--- Review 1 ---\n",
            "This is the original murder mystery novel. It predates other mystery/crime giants such as Agatha Chrisite and Dorothy Sayers. I can understand that for someone used to today's style of writing, this book may seem a bit old fashioned, but it pays to remember that it was written in the late 1800s and is one of the reasons why this genre of novels is so popular today. I enjoyed it immensely and would recommend it to all murder mystery fans.\n",
            "\n",
            "\n",
            "--- Review 2 ---\n",
            "Being able to do this program from the privacy of my own home or office is a dream! My initial investment in the equipment needed was less than $200. Health clubs are too crowded and expensive for my taste, so this program, dare I say.....fits me to a tee!\n",
            "\n",
            "\n",
            "--- Review 3 ---\n",
            "Main Idea:The seas and oceans around the world hold many truly wondrous things to us if you look for them.Summary:In 1866, a naturalist called M. Arronax departs with his friend and servant Conseil on a journey to kill a \"narwhal\" that has been sinking ships across the globe. They travel on a boat called the Abraham Lincoln, which is sailed by Captain Farragut. There they meet Ned Land, a master harpooner. The Abraham Lincoln is hit, and Ned, M. Arronax and Conseil are launched into the sea. Ned surprisingly lands on the supposed narwhal, hence discovering is made of iron and therefore is a submarine vessel. The three men are taken aboard, only to find that they are prisoners there. Yet M. Arronax and Conseil find it pleasant to see a submarine world. But even they yearn for freedom. Swim with them in this watery book!Opinions:1. This amazing book tells a tale of adventure with a subsurface of mystery. There are ocean bottoms hit and secrets kept, poles reached and mysteries left unsolved. What really kept me going while reading this book was the sheer anticipation of what was yet to come. It is wonderful material for people like me to get their hands on. I like to learn a little bit about the world while still reading a book that is fictionous and fun to read. For example, it talked about the main characters going inside an extinct volcano while describing the chamber of the volcano in explicit detail.2. The book tells the reader a bit about what life was like 1866 while still being an adventure-themed and fun to read book. It described many daring actions and risks, while still giving facts on geography I never even knew about. It told me about how a boat was run back then and also spoke about some species of fish through Conseil's classification.3. Jules Verne never explained why the title mentioned 20,000 leagues. The Nautilus never went farther than 4000 leagues down under the waves.4. I believe that this book is meant for people ages 10+ because some of the things in there might not be comprehensible to a person aged 9 or lower.RecommendationI would recommend this book to people wanting to be oceanographers because it talks about some things you may not have known about the sea. Unearth more details in this 1866 novel!\n",
            "\n",
            "\n",
            "--- Review 4 ---\n",
            "I almost closed the book when the first acknowledgement was to Albert Goldman but I kept reading. There is some of the same type of informtion contained in Goldman's book (which I threw away) but there is also some cherished moments-specifically the chapters on Bermuda and the Hit Factory when John's creativity resurfaced.Hopefully we can all soon read the sequel: The Last Days of Mark David Chapman.\n",
            "\n",
            "\n",
            "--- Review 5 ---\n",
            "Who'd have thought that a book about a crooked-legged race horse could be such a riveting page-turner!Called &quot;Seabiscuit&quot;, our &quot;runty&quot; horse was a neurotic, pathologically lazy also-ran in the louche world of horse racing. Yet, over a course of four years, its three unusual but ardent supporters (the spendthrift owner, a laconic trainer and a half-blind jockey) survived a phenomenal run of bad fortune, conspiracy, and severe injury to transform Seabiscuit from a written off liability into a national sports icon.If you are unsure about the theme, about 5 pages into the book I guarantee you'll be over all such misgivings because the undercurrent of this story has a wide universal appeal -- triumph over adversity, undying love, trust, passion.I reluctantly pull off one star because of the sports-journalist stylization of some of the prose, e.g., while describing the jockey -- &quot;Red Pollard was sinking downward through his life with the pendulous motion of a leaf falling through still air&quot;. A bit of such surface coating could have been polished to make the book somewhat leaner than its whopping 400 pages.But a great book it still is, and a top recommendation from me for best friends this year.\n",
            "\n"
          ]
        }
      ]
    },
    {
      "cell_type": "markdown",
      "source": [],
      "metadata": {
        "id": "fMqe2MBUKRpv"
      }
    },
    {
      "cell_type": "code",
      "source": [
        "# Reviews de 5 estrella\n",
        "# Filtrar reviews con score 5.0\n",
        "reviews_5_estrella = df_final[df_final[\"review/score\"] == 5.0]\n",
        "\n",
        "# Seleccionar 5 ejemplos aleatorios\n",
        "ejemplos = reviews_5_estrella.sample(n=5, random_state=42)\n",
        "\n",
        "# Imprimir los textos completos\n",
        "for i, texto in enumerate(ejemplos[\"review/text\"], 1):\n",
        "    print(f\"\\n--- Review {i} ---\\n{texto}\\n\")"
      ],
      "metadata": {
        "id": "YSLN_WaRKXlK",
        "outputId": "1c5ccc04-62c0-425a-809d-46fbcd5f3e6d",
        "colab": {
          "base_uri": "https://localhost:8080/"
        }
      },
      "execution_count": null,
      "outputs": [
        {
          "output_type": "stream",
          "name": "stdout",
          "text": [
            "\n",
            "--- Review 1 ---\n",
            "A Study in Scarlet is one of four novel length entries in the Sherlockian canon (which is mainly comprised of fifty-six short stories).It is also the very first Sherlock Holmes effort by Arthur Conan Doyle (1887). And like The Valley of Fear (also full-length), A Study in Scarlet is broken into two parts: one involving Holmes, Watson, and the rest of Victorian London; the other a flashback to America. These story-within-a-story sequences are long and have often been cited as a turn-off for those expecting Holmes on every page. In particular, the Mormon episode in A Study in Scarlet, while ultimately vital to the story, is a sharp departure from the apparent plot. On the other hand, the Pennsylvania coal mining vignette in The Valley of Fear could easily stand on its own as a hard-boiled detective yarn.Still, A Study in Scarlet is essential reading and paves the way to a better understanding of the relationship between Holmes and Watson. And of course it's also our introduction to the greatest detective the (fictional?) world has ever known:\"You have been in Afghanistan, I perceive.\"You can also find this novel in the excellent compilation:Sherlock Holmes : The Complete Novels and Stories (Bantam Classic) Volume INOTE: On some pages on the amazon product page, the author is shown to be Leslie S. Klinger. This is incorrect, although Mr. Klinger has done some annotated versions (but not this one).\n",
            "\n",
            "\n",
            "--- Review 2 ---\n",
            "This is one of the best X-Men stories I have read in a long time. My only gripe is that it's too short, but then these things have a set number of pages anyway. I loved every minute of this story. I don't want to spoil anything, because I found that half the fun was in the mystery (or multiple mysteries, as it were), but the re-imagining of an X-Men staple as an enemy was fabulous. Critics complain that it's been done before, but frankly I don't care. Each character is very well thought-out, and their inner monologue in issue #7 is fantastic. It's also nice to see the X-Men interacting with other superhumans (Fantastic Four directly, mention of the Avengers and Spider-man), something that is not often done with the X-men.Everyone occasionally has to strain with the X-verse and suspend a little more disbelief than usually necessary (how many times can we use the ol' Skrull impostor bit? How many times can Jean Grey REALLY die?) But this series is a refreshing departure from those previous convoluted storylines. An apparent continuation of Grant Morrison's New X-Men storyline (which I have not read, but plan on reading after this bit), this arc by Whedon is doing fantastic things for the X-Men. However, I heard that Whedon may not be continuing on this, but he is contracted to finish out one more year of Astonishing. Let's all hope it's equally as good. Buy this book immediately.\n",
            "\n",
            "\n",
            "--- Review 3 ---\n",
            "I read this in high school because I had to, now, 20 years later, I re-read it because I wanted to and what a difference. Charlotte Bronte's writing style is so wonderful, different and refreshing. Her descriptions are so vivid, I can see why she caused such controversy in her day! This novel is honest, compelling and Jane is way ahead of her time, as Charlotte must have been. This has sparked me to dive headfirst into more classics and see what truly makes them classic. I would really recommend this for summer vacation at the beach, or curled up in a storm.\n",
            "\n",
            "\n",
            "--- Review 4 ---\n",
            "I'm slowly becoming a Jane Austen fan. My first book was Pride and Prejudice and then I decided to give 'Persuasion' a shot...and I'm glad I did!This book tells the story of Anne Elliot. A woman of 28 who found love at 21 and lost it because she was persuaded by the family friend and her own family. But the story starts when she sees her former love eight and a half years later...it's a great journey.Captain Wentworth's letter just made me bawl like a baby!!!Amazing book, glad I picked it up!\n",
            "\n",
            "\n",
            "--- Review 5 ---\n",
            "It's a shame that the majority of Victor Vashis' work has been lost to us today. The author, a Hungarian political cartoonist, mixes pen and ink sketches with a blistering historical account of the Rise of the Soviet Union from 1917-1967. The book begins with brutally sarcastic black and white political cartoons from the early days of the Soviet Union. It portrays Lenin, Stalin, Krushchev, and the rising Communist machine in the role of the \"big bully of Europe\" ranging from quickly penned, to highly detailed exerpts from many of Vashis' published works. The entire book reads through in about 45 minutes. The author, who lived through deportation to a Siberian concentration camp, sketches and comments on the events leading up to World War II, the Soviet satellite countries, and the space race with humorous and accurate one-liners. It's a fun but largely un-noticed read.As a 10 year old kid in the late seventies, this book provided me with a basis for understanding communism, the Soviet Union, and brief history of Eastern Europe during the early 20th Century. My parents lost our original copy, and it took me 30 years before I found a new one. Truly it is a book for children and diplomats.\n",
            "\n"
          ]
        }
      ]
    },
    {
      "cell_type": "markdown",
      "source": [
        "## Balanceo de datos"
      ],
      "metadata": {
        "id": "Zl2UQJUSs2VN"
      }
    },
    {
      "cell_type": "code",
      "source": [
        "# Contar ocurrencias de los valores en una columna\n",
        "import pandas as pd\n",
        "import matplotlib.pyplot as plt\n",
        "df_final = pd.read_csv(\"/content/drive/MyDrive/Datos/contenido_zip/base_limpia.csv\")\n",
        "conteo_valores = df_final[\"review/score\"].value_counts()\n",
        "\n",
        "# Mostrar el resultado\n",
        "print(conteo_valores)"
      ],
      "metadata": {
        "colab": {
          "base_uri": "https://localhost:8080/"
        },
        "id": "TZvxNSfRs5wd",
        "outputId": "25124cfd-22db-4adb-bb5b-a2ae2bc79699"
      },
      "execution_count": 4,
      "outputs": [
        {
          "output_type": "stream",
          "name": "stdout",
          "text": [
            "review/score\n",
            "5.0    1807335\n",
            "4.0     585616\n",
            "3.0     254295\n",
            "1.0     201688\n",
            "2.0     151058\n",
            "Name: count, dtype: int64\n"
          ]
        }
      ]
    },
    {
      "cell_type": "code",
      "source": [
        "# Crear gráfico de barras\n",
        "plt.figure(figsize=(8, 8))\n",
        "plt.pie(conteo_valores, labels=conteo_valores.index, autopct='%1.1f%%', startangle=140, colors=plt.cm.Paired.colors)\n",
        "\n",
        "# Título del gráfico\n",
        "plt.title('Distribución de las puntuaciones en la columna review/score')\n",
        "\n",
        "# Mostrar el gráfico\n",
        "plt.axis('equal')  # Para que el gráfico sea un círculo\n",
        "plt.show()"
      ],
      "metadata": {
        "id": "Fz6yaBPdea7X",
        "outputId": "ceb80a26-8e3b-41b6-da93-03cac057862b",
        "colab": {
          "base_uri": "https://localhost:8080/",
          "height": 675
        }
      },
      "execution_count": 6,
      "outputs": [
        {
          "output_type": "display_data",
          "data": {
            "text/plain": [
              "<Figure size 800x800 with 1 Axes>"
            ],
            "image/png": "[encoded data removed]"
          },
          "metadata": {}
        }
      ]
    },
    {
      "cell_type": "markdown",
      "source": [
        "La base de datos presenta un fuerte desbalance en la distribución de clases: más del 60% de las reseñas tienen una puntuación de 5 estrellas. Este desequilibrio puede afectar negativamente al rendimiento de los modelos predictivos, ya que tienden a favorecer la clase mayoritaria.\n",
        "\n",
        "*  Inicialmente, podríamos considerar agrupar las puntuaciones en dos categorías: reviews positivas (puntuaciones 4 y 5) y reviews negativas (puntuaciones de 1 a 3) según lo visto en el análisis manual de las reviews. Sin embargo, esta estrategia por sí sola no resuelve el problema, ya que las reviews positivas siguen representando una gran mayoría frente al resto.\n",
        "\n",
        "*  Por ello, optamos por aplicar una técnica de resampling, concretamente undersampling, que consiste en reducir el número de muestras de la clase mayoritaria. De este modo, conseguimos un conjunto de datos más equilibrado y adecuado para el entrenamiento de modelos de clasificación."
      ],
      "metadata": {
        "id": "M-7SoOqh_zIU"
      }
    },
    {
      "cell_type": "code",
      "source": [
        "\n",
        "import pandas as pd\n",
        "\n",
        "# Separar las clases originales\n",
        "df_5 = df_final[df_final[\"review/score\"] == 5.0]\n",
        "df_4 = df_final[df_final[\"review/score\"] == 4.0]\n",
        "df_3 = df_final[df_final[\"review/score\"] == 3.0]\n",
        "df_2 = df_final[df_final[\"review/score\"] == 2.0]\n",
        "df_1 = df_final[df_final[\"review/score\"] == 1.0]\n",
        "\n",
        "# Agrupar las clases en 3 categorías\n",
        "df_positivo = pd.concat([df_5, df_4])  # 5 y 4 estrellas\n",
        "df_neutral = df_3  # 3 estrellas\n",
        "df_negativo = pd.concat([df_2, df_1])  # 2 y 1 estrellas\n",
        "\n",
        "# Tamaño objetivo: el tamaño de la clase más pequeña (en este caso, neutral)\n",
        "tamaño_minimo = min(len(df_positivo), len(df_neutral), len(df_negativo))\n",
        "print(f\"Tamaño mínimo de las clases: {tamaño_minimo}\")\n",
        "\n",
        "# Hacer undersampling de las clases para balancearlas\n",
        "df_positivo_under = df_positivo.sample(n=tamaño_minimo, random_state=42)\n",
        "df_neutral_under = df_neutral.sample(n=tamaño_minimo, random_state=42)\n",
        "df_negativo_under = df_negativo.sample(n=tamaño_minimo, random_state=42)\n",
        "\n",
        "# Asignar etiquetas de categoría\n",
        "df_positivo_under[\"categoria\"] = \"positivo\"\n",
        "df_neutral_under[\"categoria\"] = \"neutral\"\n",
        "df_negativo_under[\"categoria\"] = \"negativo\"\n",
        "\n",
        "# Unir todo en un nuevo dataset balanceado\n",
        "df_balanceado = pd.concat([df_positivo_under, df_neutral_under, df_negativo_under])\n",
        "\n",
        "# Mezclar (shuffle)\n",
        "df_balanceado = df_balanceado.sample(frac=1, random_state=42).reset_index(drop=True)\n",
        "\n",
        "# Verificar las categorías\n",
        "print(df_balanceado[\"categoria\"].value_counts())\n",
        "\n",
        "\n"
      ],
      "metadata": {
        "id": "Q4x7neYSAK0y",
        "outputId": "02403966-4e32-4e47-c018-35c56f2aafd1",
        "colab": {
          "base_uri": "https://localhost:8080/"
        }
      },
      "execution_count": 9,
      "outputs": [
        {
          "output_type": "stream",
          "name": "stdout",
          "text": [
            "Tamaño mínimo de las clases: 254295\n",
            "categoria\n",
            "neutral     254295\n",
            "negativo    254295\n",
            "positivo    254295\n",
            "Name: count, dtype: int64\n"
          ]
        }
      ]
    },
    {
      "cell_type": "code",
      "source": [
        "conteo_valores = df_balanceado[\"categoria\"].value_counts()\n",
        "import pandas as pd\n",
        "import matplotlib.pyplot as plt\n",
        "# Crear el gráfico de tarta\n",
        "plt.figure(figsize=(8, 8))\n",
        "plt.pie(conteo_valores, labels=conteo_valores.index, autopct='%1.1f%%', startangle=90)\n",
        "\n",
        "# Añadir título\n",
        "plt.title('Distribución de Puntuaciones de Reseñas')\n",
        "\n",
        "# Mostrar el gráfico\n",
        "plt.show()"
      ],
      "metadata": {
        "id": "KuIVjhWxgKAb",
        "outputId": "e3053775-fb8c-4369-93a2-4ef74187f2c2",
        "colab": {
          "base_uri": "https://localhost:8080/",
          "height": 675
        }
      },
      "execution_count": 11,
      "outputs": [
        {
          "output_type": "display_data",
          "data": {
            "text/plain": [
              "<Figure size 800x800 with 1 Axes>"
            ],
            "image/png": "[encoded data removed]"
          },
          "metadata": {}
        }
      ]
    }
  ]
}
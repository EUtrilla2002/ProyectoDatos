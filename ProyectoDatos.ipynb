{
  "nbformat": 4,
  "nbformat_minor": 0,
  "metadata": {
    "colab": {
      "provenance": [],
      "mount_file_id": "https://github.com/EUtrilla2002/ProyectoDatos/blob/main/ProyectoDatos.ipynb",
      "authorship_tag": "ABX9TyN42pWc8Q4OtYRP5zkEGRAn",
      "include_colab_link": true
    },
    "kernelspec": {
      "name": "python3",
      "display_name": "Python 3"
    },
    "language_info": {
      "name": "python"
    }
  },
  "cells": [
    {
      "cell_type": "markdown",
      "metadata": {
        "id": "view-in-github",
        "colab_type": "text"
      },
      "source": [
        "<a href=\"https://colab.research.google.com/github/EUtrilla2002/ProyectoDatos/blob/main/ProyectoDatos.ipynb\" target=\"_parent\"><img src=\"https://colab.research.google.com/assets/colab-badge.svg\" alt=\"Open In Colab\"/></a>"
      ]
    },
    {
      "cell_type": "markdown",
      "source": [
        "## Análisis de datos"
      ],
      "metadata": {
        "id": "ud0eRRZghzgG"
      }
    },
    {
      "cell_type": "code",
      "execution_count": 1,
      "metadata": {
        "id": "M9p5Fd97VQDL",
        "outputId": "efe90e20-e196-42e2-c7f2-ad5275685982",
        "colab": {
          "base_uri": "https://localhost:8080/"
        }
      },
      "outputs": [
        {
          "output_type": "stream",
          "name": "stdout",
          "text": [
            "Descompresión completa.\n"
          ]
        }
      ],
      "source": [
        "import zipfile\n",
        "import os\n",
        "\n",
        "zip_path = \"/content/drive/MyDrive/Datos/archive.zip\"  # Reemplaza con el nombre de tu archivo ZIP\n",
        "extract_path = \"/content/drive/MyDrive/Datos/contenido_zip\"  # Carpeta donde se extraerán los archivos\n",
        "\n",
        "# Crear carpeta si no existe\n",
        "os.makedirs(extract_path, exist_ok=True)\n",
        "\n",
        "# Descomprimir el ZIP\n",
        "with zipfile.ZipFile(zip_path, 'r') as zip_ref:\n",
        "    zip_ref.extractall(extract_path)\n",
        "\n",
        "print(\"Descompresión completa.\")"
      ]
    },
    {
      "cell_type": "markdown",
      "source": [
        "## Bases de datos"
      ],
      "metadata": {
        "id": "ppcINLsth7a8"
      }
    },
    {
      "cell_type": "code",
      "source": [
        "import pandas as pd\n",
        "\n",
        "# Cargar los datasets (pueden estar en CSV, Excel, etc.)\n",
        "df1 = pd.read_csv(\"/content/drive/MyDrive/Datos/contenido_zip/Books_rating.csv\")  # Primera base de datos\n",
        "df2 = pd.read_csv(\"/content/drive/MyDrive/Datos/contenido_zip/books_data.csv\")  # Segunda base de datos\n",
        "\n",
        "# Ver los primeros registros (opcional)\n",
        "print(df1.head())\n",
        "print(df2.head())\n"
      ],
      "metadata": {
        "colab": {
          "base_uri": "https://localhost:8080/"
        },
        "id": "TCB0WbK_h97v",
        "outputId": "b720c915-65a8-4ac8-d4fd-5cddfe043e6d"
      },
      "execution_count": 2,
      "outputs": [
        {
          "output_type": "stream",
          "name": "stdout",
          "text": [
            "           Id                           Title  Price         User_id  \\\n",
            "0  1882931173  Its Only Art If Its Well Hung!    NaN   AVCGYZL8FQQTD   \n",
            "1  0826414346        Dr. Seuss: American Icon    NaN  A30TK6U7DNS82R   \n",
            "2  0826414346        Dr. Seuss: American Icon    NaN  A3UH4UZ4RSVO82   \n",
            "3  0826414346        Dr. Seuss: American Icon    NaN  A2MVUWT453QH61   \n",
            "4  0826414346        Dr. Seuss: American Icon    NaN  A22X4XUPKF66MR   \n",
            "\n",
            "                          profileName review/helpfulness  review/score  \\\n",
            "0               Jim of Oz \"jim-of-oz\"                7/7           4.0   \n",
            "1                       Kevin Killian              10/10           5.0   \n",
            "2                        John Granger              10/11           5.0   \n",
            "3  Roy E. Perry \"amateur philosopher\"                7/7           4.0   \n",
            "4     D. H. Richards \"ninthwavestore\"                3/3           4.0   \n",
            "\n",
            "   review/time                                   review/summary  \\\n",
            "0    940636800           Nice collection of Julie Strain images   \n",
            "1   1095724800                                Really Enjoyed It   \n",
            "2   1078790400  Essential for every personal and Public Library   \n",
            "3   1090713600  Phlip Nel gives silly Seuss a serious treatment   \n",
            "4   1107993600                           Good academic overview   \n",
            "\n",
            "                                         review/text  \n",
            "0  This is only for Julie Strain fans. It's a col...  \n",
            "1  I don't care much for Dr. Seuss but after read...  \n",
            "2  If people become the books they read and if \"t...  \n",
            "3  Theodore Seuss Geisel (1904-1991), aka &quot;D...  \n",
            "4  Philip Nel - Dr. Seuss: American IconThis is b...  \n",
            "                                               Title  \\\n",
            "0                     Its Only Art If Its Well Hung!   \n",
            "1                           Dr. Seuss: American Icon   \n",
            "2              Wonderful Worship in Smaller Churches   \n",
            "3                      Whispers of the Wicked Saints   \n",
            "4  Nation Dance: Religion, Identity and Cultural ...   \n",
            "\n",
            "                                         description              authors  \\\n",
            "0                                                NaN     ['Julie Strain']   \n",
            "1  Philip Nel takes a fascinating look into the k...       ['Philip Nel']   \n",
            "2  This resource includes twelve principles in un...     ['David R. Ray']   \n",
            "3  Julia Thomas finds her life spinning out of co...  ['Veronica Haddon']   \n",
            "4                                                NaN      ['Edward Long']   \n",
            "\n",
            "                                               image  \\\n",
            "0  http://books.google.com/books/content?id=DykPA...   \n",
            "1  http://books.google.com/books/content?id=IjvHQ...   \n",
            "2  http://books.google.com/books/content?id=2tsDA...   \n",
            "3  http://books.google.com/books/content?id=aRSIg...   \n",
            "4                                                NaN   \n",
            "\n",
            "                                         previewLink  publisher publishedDate  \\\n",
            "0  http://books.google.nl/books?id=DykPAAAACAAJ&d...        NaN          1996   \n",
            "1  http://books.google.nl/books?id=IjvHQsCn_pgC&p...  A&C Black    2005-01-01   \n",
            "2  http://books.google.nl/books?id=2tsDAAAACAAJ&d...        NaN          2000   \n",
            "3  http://books.google.nl/books?id=aRSIgJlq6JwC&d...  iUniverse       2005-02   \n",
            "4  http://books.google.nl/books?id=399SPgAACAAJ&d...        NaN    2003-03-01   \n",
            "\n",
            "                                            infoLink  \\\n",
            "0  http://books.google.nl/books?id=DykPAAAACAAJ&d...   \n",
            "1  http://books.google.nl/books?id=IjvHQsCn_pgC&d...   \n",
            "2  http://books.google.nl/books?id=2tsDAAAACAAJ&d...   \n",
            "3  http://books.google.nl/books?id=aRSIgJlq6JwC&d...   \n",
            "4  http://books.google.nl/books?id=399SPgAACAAJ&d...   \n",
            "\n",
            "                      categories  ratingsCount  \n",
            "0    ['Comics & Graphic Novels']           NaN  \n",
            "1  ['Biography & Autobiography']           NaN  \n",
            "2                   ['Religion']           NaN  \n",
            "3                    ['Fiction']           NaN  \n",
            "4                            NaN           NaN  \n"
          ]
        }
      ]
    },
    {
      "cell_type": "code",
      "source": [
        "# Unir las bases de datos por la columna \"Título\"\n",
        "df_final = pd.merge(df1, df2, on=\"Title\", how=\"inner\")  # \"inner\" solo mantiene coincidencias\n",
        "\n",
        "# Guardar el resultado en un nuevo archivo CSV\n",
        "df_final.to_csv(\"/content/drive/MyDrive/Datos/contenido_zip/base_combinada.csv\", index=False)\n",
        "\n",
        "print(\"Bases de datos unidas correctamente.\")\n",
        "print(df_final.head())  # Mostrar resultado"
      ],
      "metadata": {
        "colab": {
          "base_uri": "https://localhost:8080/",
          "height": 391
        },
        "id": "WS4HiL05iKau",
        "outputId": "10ae0951-229a-4efd-927e-a83fab845767"
      },
      "execution_count": 8,
      "outputs": [
        {
          "output_type": "error",
          "ename": "KeyboardInterrupt",
          "evalue": "",
          "traceback": [
            "\u001b[0;31m---------------------------------------------------------------------------\u001b[0m",
            "\u001b[0;31mKeyboardInterrupt\u001b[0m                         Traceback (most recent call last)",
            "\u001b[0;32m<ipython-input-8-207d0a820f31>\u001b[0m in \u001b[0;36m<cell line: 0>\u001b[0;34m()\u001b[0m\n\u001b[1;32m      3\u001b[0m \u001b[0;34m\u001b[0m\u001b[0m\n\u001b[1;32m      4\u001b[0m \u001b[0;31m# Guardar el resultado en un nuevo archivo CSV\u001b[0m\u001b[0;34m\u001b[0m\u001b[0;34m\u001b[0m\u001b[0m\n\u001b[0;32m----> 5\u001b[0;31m \u001b[0mdf_final\u001b[0m\u001b[0;34m.\u001b[0m\u001b[0mto_csv\u001b[0m\u001b[0;34m(\u001b[0m\u001b[0;34m\"/content/drive/MyDrive/Datos/contenido_zip/base_combinada.csv\"\u001b[0m\u001b[0;34m,\u001b[0m \u001b[0mindex\u001b[0m\u001b[0;34m=\u001b[0m\u001b[0;32mFalse\u001b[0m\u001b[0;34m)\u001b[0m\u001b[0;34m\u001b[0m\u001b[0;34m\u001b[0m\u001b[0m\n\u001b[0m\u001b[1;32m      6\u001b[0m \u001b[0;34m\u001b[0m\u001b[0m\n\u001b[1;32m      7\u001b[0m \u001b[0mprint\u001b[0m\u001b[0;34m(\u001b[0m\u001b[0;34m\"Bases de datos unidas correctamente.\"\u001b[0m\u001b[0;34m)\u001b[0m\u001b[0;34m\u001b[0m\u001b[0;34m\u001b[0m\u001b[0m\n",
            "\u001b[0;32m/usr/local/lib/python3.11/dist-packages/pandas/util/_decorators.py\u001b[0m in \u001b[0;36mwrapper\u001b[0;34m(*args, **kwargs)\u001b[0m\n\u001b[1;32m    331\u001b[0m                     \u001b[0mstacklevel\u001b[0m\u001b[0;34m=\u001b[0m\u001b[0mfind_stack_level\u001b[0m\u001b[0;34m(\u001b[0m\u001b[0;34m)\u001b[0m\u001b[0;34m,\u001b[0m\u001b[0;34m\u001b[0m\u001b[0;34m\u001b[0m\u001b[0m\n\u001b[1;32m    332\u001b[0m                 )\n\u001b[0;32m--> 333\u001b[0;31m             \u001b[0;32mreturn\u001b[0m \u001b[0mfunc\u001b[0m\u001b[0;34m(\u001b[0m\u001b[0;34m*\u001b[0m\u001b[0margs\u001b[0m\u001b[0;34m,\u001b[0m \u001b[0;34m**\u001b[0m\u001b[0mkwargs\u001b[0m\u001b[0;34m)\u001b[0m\u001b[0;34m\u001b[0m\u001b[0;34m\u001b[0m\u001b[0m\n\u001b[0m\u001b[1;32m    334\u001b[0m \u001b[0;34m\u001b[0m\u001b[0m\n\u001b[1;32m    335\u001b[0m         \u001b[0;31m# error: \"Callable[[VarArg(Any), KwArg(Any)], Any]\" has no\u001b[0m\u001b[0;34m\u001b[0m\u001b[0;34m\u001b[0m\u001b[0m\n",
            "\u001b[0;32m/usr/local/lib/python3.11/dist-packages/pandas/core/generic.py\u001b[0m in \u001b[0;36mto_csv\u001b[0;34m(self, path_or_buf, sep, na_rep, float_format, columns, header, index, index_label, mode, encoding, compression, quoting, quotechar, lineterminator, chunksize, date_format, doublequote, escapechar, decimal, errors, storage_options)\u001b[0m\n\u001b[1;32m   3965\u001b[0m         )\n\u001b[1;32m   3966\u001b[0m \u001b[0;34m\u001b[0m\u001b[0m\n\u001b[0;32m-> 3967\u001b[0;31m         return DataFrameRenderer(formatter).to_csv(\n\u001b[0m\u001b[1;32m   3968\u001b[0m             \u001b[0mpath_or_buf\u001b[0m\u001b[0;34m,\u001b[0m\u001b[0;34m\u001b[0m\u001b[0;34m\u001b[0m\u001b[0m\n\u001b[1;32m   3969\u001b[0m             \u001b[0mlineterminator\u001b[0m\u001b[0;34m=\u001b[0m\u001b[0mlineterminator\u001b[0m\u001b[0;34m,\u001b[0m\u001b[0;34m\u001b[0m\u001b[0;34m\u001b[0m\u001b[0m\n",
            "\u001b[0;32m/usr/local/lib/python3.11/dist-packages/pandas/io/formats/format.py\u001b[0m in \u001b[0;36mto_csv\u001b[0;34m(self, path_or_buf, encoding, sep, columns, index_label, mode, compression, quoting, quotechar, lineterminator, chunksize, date_format, doublequote, escapechar, errors, storage_options)\u001b[0m\n\u001b[1;32m   1012\u001b[0m             \u001b[0mformatter\u001b[0m\u001b[0;34m=\u001b[0m\u001b[0mself\u001b[0m\u001b[0;34m.\u001b[0m\u001b[0mfmt\u001b[0m\u001b[0;34m,\u001b[0m\u001b[0;34m\u001b[0m\u001b[0;34m\u001b[0m\u001b[0m\n\u001b[1;32m   1013\u001b[0m         )\n\u001b[0;32m-> 1014\u001b[0;31m         \u001b[0mcsv_formatter\u001b[0m\u001b[0;34m.\u001b[0m\u001b[0msave\u001b[0m\u001b[0;34m(\u001b[0m\u001b[0;34m)\u001b[0m\u001b[0;34m\u001b[0m\u001b[0;34m\u001b[0m\u001b[0m\n\u001b[0m\u001b[1;32m   1015\u001b[0m \u001b[0;34m\u001b[0m\u001b[0m\n\u001b[1;32m   1016\u001b[0m         \u001b[0;32mif\u001b[0m \u001b[0mcreated_buffer\u001b[0m\u001b[0;34m:\u001b[0m\u001b[0;34m\u001b[0m\u001b[0;34m\u001b[0m\u001b[0m\n",
            "\u001b[0;32m/usr/local/lib/python3.11/dist-packages/pandas/io/formats/csvs.py\u001b[0m in \u001b[0;36msave\u001b[0;34m(self)\u001b[0m\n\u001b[1;32m    268\u001b[0m             )\n\u001b[1;32m    269\u001b[0m \u001b[0;34m\u001b[0m\u001b[0m\n\u001b[0;32m--> 270\u001b[0;31m             \u001b[0mself\u001b[0m\u001b[0;34m.\u001b[0m\u001b[0m_save\u001b[0m\u001b[0;34m(\u001b[0m\u001b[0;34m)\u001b[0m\u001b[0;34m\u001b[0m\u001b[0;34m\u001b[0m\u001b[0m\n\u001b[0m\u001b[1;32m    271\u001b[0m \u001b[0;34m\u001b[0m\u001b[0m\n\u001b[1;32m    272\u001b[0m     \u001b[0;32mdef\u001b[0m \u001b[0m_save\u001b[0m\u001b[0;34m(\u001b[0m\u001b[0mself\u001b[0m\u001b[0;34m)\u001b[0m \u001b[0;34m->\u001b[0m \u001b[0;32mNone\u001b[0m\u001b[0;34m:\u001b[0m\u001b[0;34m\u001b[0m\u001b[0;34m\u001b[0m\u001b[0m\n",
            "\u001b[0;32m/usr/local/lib/python3.11/dist-packages/pandas/io/formats/csvs.py\u001b[0m in \u001b[0;36m_save\u001b[0;34m(self)\u001b[0m\n\u001b[1;32m    273\u001b[0m         \u001b[0;32mif\u001b[0m \u001b[0mself\u001b[0m\u001b[0;34m.\u001b[0m\u001b[0m_need_to_save_header\u001b[0m\u001b[0;34m:\u001b[0m\u001b[0;34m\u001b[0m\u001b[0;34m\u001b[0m\u001b[0m\n\u001b[1;32m    274\u001b[0m             \u001b[0mself\u001b[0m\u001b[0;34m.\u001b[0m\u001b[0m_save_header\u001b[0m\u001b[0;34m(\u001b[0m\u001b[0;34m)\u001b[0m\u001b[0;34m\u001b[0m\u001b[0;34m\u001b[0m\u001b[0m\n\u001b[0;32m--> 275\u001b[0;31m         \u001b[0mself\u001b[0m\u001b[0;34m.\u001b[0m\u001b[0m_save_body\u001b[0m\u001b[0;34m(\u001b[0m\u001b[0;34m)\u001b[0m\u001b[0;34m\u001b[0m\u001b[0;34m\u001b[0m\u001b[0m\n\u001b[0m\u001b[1;32m    276\u001b[0m \u001b[0;34m\u001b[0m\u001b[0m\n\u001b[1;32m    277\u001b[0m     \u001b[0;32mdef\u001b[0m \u001b[0m_save_header\u001b[0m\u001b[0;34m(\u001b[0m\u001b[0mself\u001b[0m\u001b[0;34m)\u001b[0m \u001b[0;34m->\u001b[0m \u001b[0;32mNone\u001b[0m\u001b[0;34m:\u001b[0m\u001b[0;34m\u001b[0m\u001b[0;34m\u001b[0m\u001b[0m\n",
            "\u001b[0;32m/usr/local/lib/python3.11/dist-packages/pandas/io/formats/csvs.py\u001b[0m in \u001b[0;36m_save_body\u001b[0;34m(self)\u001b[0m\n\u001b[1;32m    311\u001b[0m             \u001b[0;32mif\u001b[0m \u001b[0mstart_i\u001b[0m \u001b[0;34m>=\u001b[0m \u001b[0mend_i\u001b[0m\u001b[0;34m:\u001b[0m\u001b[0;34m\u001b[0m\u001b[0;34m\u001b[0m\u001b[0m\n\u001b[1;32m    312\u001b[0m                 \u001b[0;32mbreak\u001b[0m\u001b[0;34m\u001b[0m\u001b[0;34m\u001b[0m\u001b[0m\n\u001b[0;32m--> 313\u001b[0;31m             \u001b[0mself\u001b[0m\u001b[0;34m.\u001b[0m\u001b[0m_save_chunk\u001b[0m\u001b[0;34m(\u001b[0m\u001b[0mstart_i\u001b[0m\u001b[0;34m,\u001b[0m \u001b[0mend_i\u001b[0m\u001b[0;34m)\u001b[0m\u001b[0;34m\u001b[0m\u001b[0;34m\u001b[0m\u001b[0m\n\u001b[0m\u001b[1;32m    314\u001b[0m \u001b[0;34m\u001b[0m\u001b[0m\n\u001b[1;32m    315\u001b[0m     \u001b[0;32mdef\u001b[0m \u001b[0m_save_chunk\u001b[0m\u001b[0;34m(\u001b[0m\u001b[0mself\u001b[0m\u001b[0;34m,\u001b[0m \u001b[0mstart_i\u001b[0m\u001b[0;34m:\u001b[0m \u001b[0mint\u001b[0m\u001b[0;34m,\u001b[0m \u001b[0mend_i\u001b[0m\u001b[0;34m:\u001b[0m \u001b[0mint\u001b[0m\u001b[0;34m)\u001b[0m \u001b[0;34m->\u001b[0m \u001b[0;32mNone\u001b[0m\u001b[0;34m:\u001b[0m\u001b[0;34m\u001b[0m\u001b[0;34m\u001b[0m\u001b[0m\n",
            "\u001b[0;32m/usr/local/lib/python3.11/dist-packages/pandas/io/formats/csvs.py\u001b[0m in \u001b[0;36m_save_chunk\u001b[0;34m(self, start_i, end_i)\u001b[0m\n\u001b[1;32m    322\u001b[0m \u001b[0;34m\u001b[0m\u001b[0m\n\u001b[1;32m    323\u001b[0m         \u001b[0mix\u001b[0m \u001b[0;34m=\u001b[0m \u001b[0mself\u001b[0m\u001b[0;34m.\u001b[0m\u001b[0mdata_index\u001b[0m\u001b[0;34m[\u001b[0m\u001b[0mslicer\u001b[0m\u001b[0;34m]\u001b[0m\u001b[0;34m.\u001b[0m\u001b[0m_get_values_for_csv\u001b[0m\u001b[0;34m(\u001b[0m\u001b[0;34m**\u001b[0m\u001b[0mself\u001b[0m\u001b[0;34m.\u001b[0m\u001b[0m_number_format\u001b[0m\u001b[0;34m)\u001b[0m\u001b[0;34m\u001b[0m\u001b[0;34m\u001b[0m\u001b[0m\n\u001b[0;32m--> 324\u001b[0;31m         libwriters.write_csv_rows(\n\u001b[0m\u001b[1;32m    325\u001b[0m             \u001b[0mdata\u001b[0m\u001b[0;34m,\u001b[0m\u001b[0;34m\u001b[0m\u001b[0;34m\u001b[0m\u001b[0m\n\u001b[1;32m    326\u001b[0m             \u001b[0mix\u001b[0m\u001b[0;34m,\u001b[0m\u001b[0;34m\u001b[0m\u001b[0;34m\u001b[0m\u001b[0m\n",
            "\u001b[0;32mwriters.pyx\u001b[0m in \u001b[0;36mpandas._libs.writers.write_csv_rows\u001b[0;34m()\u001b[0m\n",
            "\u001b[0;31mKeyboardInterrupt\u001b[0m: "
          ]
        }
      ]
    },
    {
      "cell_type": "markdown",
      "source": [
        "## Eliminación de columnas"
      ],
      "metadata": {
        "id": "KYI1FNsdiPeL"
      }
    },
    {
      "cell_type": "code",
      "source": [
        "df_final = pd.read_csv(\"/content/drive/MyDrive/Datos/contenido_zip/base_combinada.csv\")  # Segunda base de datos"
      ],
      "metadata": {
        "id": "ECuB7MyUjDu_"
      },
      "execution_count": 9,
      "outputs": []
    },
    {
      "cell_type": "code",
      "source": [
        "# Contar NaN en cada columna\n",
        "nan_counts = df_final.isna().sum()\n",
        "\n",
        "# Mostrar resultado\n",
        "print(nan_counts)"
      ],
      "metadata": {
        "colab": {
          "base_uri": "https://localhost:8080/"
        },
        "outputId": "ebcaa4ca-89f3-47b3-9d99-576a08ef0bf2",
        "id": "0bpluj3th853"
      },
      "execution_count": 10,
      "outputs": [
        {
          "output_type": "stream",
          "name": "stdout",
          "text": [
            "Id                        0\n",
            "Title                     1\n",
            "Price                 19993\n",
            "User_id                4623\n",
            "profileName            4624\n",
            "review/helpfulness        0\n",
            "review/score              0\n",
            "review/time               0\n",
            "review/summary            5\n",
            "review/text               0\n",
            "description            5376\n",
            "authors                1397\n",
            "image                  3386\n",
            "previewLink             906\n",
            "publisher              6905\n",
            "publishedDate          1045\n",
            "infoLink                906\n",
            "categories             2990\n",
            "ratingsCount          11456\n",
            "dtype: int64\n"
          ]
        }
      ]
    },
    {
      "cell_type": "code",
      "source": [
        "df_final_sincolumnas = df_final.drop(columns=[\"Id\",\"image\",\"previewLink\",\"User_id\",\"infoLink\",\"profileName\",\"Price\",\"ratingsCount\",\"review/helpfulness\",\"review/time\"])\n",
        "\n",
        "\n",
        "df_final_sincolumnas.head()"
      ],
      "metadata": {
        "colab": {
          "base_uri": "https://localhost:8080/",
          "height": 293
        },
        "id": "mFLvw1dZigzV",
        "outputId": "360943af-6f2b-46f2-cfbf-6ba37cb54400"
      },
      "execution_count": 12,
      "outputs": [
        {
          "output_type": "execute_result",
          "data": {
            "text/plain": [
              "                            Title  review/score  \\\n",
              "0  Its Only Art If Its Well Hung!           4.0   \n",
              "1        Dr. Seuss: American Icon           5.0   \n",
              "2        Dr. Seuss: American Icon           5.0   \n",
              "3        Dr. Seuss: American Icon           4.0   \n",
              "4        Dr. Seuss: American Icon           4.0   \n",
              "\n",
              "                                    review/summary  \\\n",
              "0           Nice collection of Julie Strain images   \n",
              "1                                Really Enjoyed It   \n",
              "2  Essential for every personal and Public Library   \n",
              "3  Phlip Nel gives silly Seuss a serious treatment   \n",
              "4                           Good academic overview   \n",
              "\n",
              "                                         review/text  \\\n",
              "0  This is only for Julie Strain fans. It's a col...   \n",
              "1  I don't care much for Dr. Seuss but after read...   \n",
              "2  If people become the books they read and if \"t...   \n",
              "3  Theodore Seuss Geisel (1904-1991), aka &quot;D...   \n",
              "4  Philip Nel - Dr. Seuss: American IconThis is b...   \n",
              "\n",
              "                                         description           authors  \\\n",
              "0                                                NaN  ['Julie Strain']   \n",
              "1  Philip Nel takes a fascinating look into the k...    ['Philip Nel']   \n",
              "2  Philip Nel takes a fascinating look into the k...    ['Philip Nel']   \n",
              "3  Philip Nel takes a fascinating look into the k...    ['Philip Nel']   \n",
              "4  Philip Nel takes a fascinating look into the k...    ['Philip Nel']   \n",
              "\n",
              "   publisher publishedDate                     categories  \n",
              "0        NaN          1996    ['Comics & Graphic Novels']  \n",
              "1  A&C Black    2005-01-01  ['Biography & Autobiography']  \n",
              "2  A&C Black    2005-01-01  ['Biography & Autobiography']  \n",
              "3  A&C Black    2005-01-01  ['Biography & Autobiography']  \n",
              "4  A&C Black    2005-01-01  ['Biography & Autobiography']  "
            ],
            "text/html": [
              "\n",
              "  <div id=\"df-18212da7-cc0e-4774-bc4e-311ec4976f04\" class=\"colab-df-container\">\n",
              "    <div>\n",
              "<style scoped>\n",
              "    .dataframe tbody tr th:only-of-type {\n",
              "        vertical-align: middle;\n",
              "    }\n",
              "\n",
              "    .dataframe tbody tr th {\n",
              "        vertical-align: top;\n",
              "    }\n",
              "\n",
              "    .dataframe thead th {\n",
              "        text-align: right;\n",
              "    }\n",
              "</style>\n",
              "<table border=\"1\" class=\"dataframe\">\n",
              "  <thead>\n",
              "    <tr style=\"text-align: right;\">\n",
              "      <th></th>\n",
              "      <th>Title</th>\n",
              "      <th>review/score</th>\n",
              "      <th>review/summary</th>\n",
              "      <th>review/text</th>\n",
              "      <th>description</th>\n",
              "      <th>authors</th>\n",
              "      <th>publisher</th>\n",
              "      <th>publishedDate</th>\n",
              "      <th>categories</th>\n",
              "    </tr>\n",
              "  </thead>\n",
              "  <tbody>\n",
              "    <tr>\n",
              "      <th>0</th>\n",
              "      <td>Its Only Art If Its Well Hung!</td>\n",
              "      <td>4.0</td>\n",
              "      <td>Nice collection of Julie Strain images</td>\n",
              "      <td>This is only for Julie Strain fans. It's a col...</td>\n",
              "      <td>NaN</td>\n",
              "      <td>['Julie Strain']</td>\n",
              "      <td>NaN</td>\n",
              "      <td>1996</td>\n",
              "      <td>['Comics &amp; Graphic Novels']</td>\n",
              "    </tr>\n",
              "    <tr>\n",
              "      <th>1</th>\n",
              "      <td>Dr. Seuss: American Icon</td>\n",
              "      <td>5.0</td>\n",
              "      <td>Really Enjoyed It</td>\n",
              "      <td>I don't care much for Dr. Seuss but after read...</td>\n",
              "      <td>Philip Nel takes a fascinating look into the k...</td>\n",
              "      <td>['Philip Nel']</td>\n",
              "      <td>A&amp;C Black</td>\n",
              "      <td>2005-01-01</td>\n",
              "      <td>['Biography &amp; Autobiography']</td>\n",
              "    </tr>\n",
              "    <tr>\n",
              "      <th>2</th>\n",
              "      <td>Dr. Seuss: American Icon</td>\n",
              "      <td>5.0</td>\n",
              "      <td>Essential for every personal and Public Library</td>\n",
              "      <td>If people become the books they read and if \"t...</td>\n",
              "      <td>Philip Nel takes a fascinating look into the k...</td>\n",
              "      <td>['Philip Nel']</td>\n",
              "      <td>A&amp;C Black</td>\n",
              "      <td>2005-01-01</td>\n",
              "      <td>['Biography &amp; Autobiography']</td>\n",
              "    </tr>\n",
              "    <tr>\n",
              "      <th>3</th>\n",
              "      <td>Dr. Seuss: American Icon</td>\n",
              "      <td>4.0</td>\n",
              "      <td>Phlip Nel gives silly Seuss a serious treatment</td>\n",
              "      <td>Theodore Seuss Geisel (1904-1991), aka &amp;quot;D...</td>\n",
              "      <td>Philip Nel takes a fascinating look into the k...</td>\n",
              "      <td>['Philip Nel']</td>\n",
              "      <td>A&amp;C Black</td>\n",
              "      <td>2005-01-01</td>\n",
              "      <td>['Biography &amp; Autobiography']</td>\n",
              "    </tr>\n",
              "    <tr>\n",
              "      <th>4</th>\n",
              "      <td>Dr. Seuss: American Icon</td>\n",
              "      <td>4.0</td>\n",
              "      <td>Good academic overview</td>\n",
              "      <td>Philip Nel - Dr. Seuss: American IconThis is b...</td>\n",
              "      <td>Philip Nel takes a fascinating look into the k...</td>\n",
              "      <td>['Philip Nel']</td>\n",
              "      <td>A&amp;C Black</td>\n",
              "      <td>2005-01-01</td>\n",
              "      <td>['Biography &amp; Autobiography']</td>\n",
              "    </tr>\n",
              "  </tbody>\n",
              "</table>\n",
              "</div>\n",
              "    <div class=\"colab-df-buttons\">\n",
              "\n",
              "  <div class=\"colab-df-container\">\n",
              "    <button class=\"colab-df-convert\" onclick=\"convertToInteractive('df-18212da7-cc0e-4774-bc4e-311ec4976f04')\"\n",
              "            title=\"Convert this dataframe to an interactive table.\"\n",
              "            style=\"display:none;\">\n",
              "\n",
              "  <svg xmlns=\"http://www.w3.org/2000/svg\" height=\"24px\" viewBox=\"0 -960 960 960\">\n",
              "    <path d=\"M120-120v-720h720v720H120Zm60-500h600v-160H180v160Zm220 220h160v-160H400v160Zm0 220h160v-160H400v160ZM180-400h160v-160H180v160Zm440 0h160v-160H620v160ZM180-180h160v-160H180v160Zm440 0h160v-160H620v160Z\"/>\n",
              "  </svg>\n",
              "    </button>\n",
              "\n",
              "  <style>\n",
              "    .colab-df-container {\n",
              "      display:flex;\n",
              "      gap: 12px;\n",
              "    }\n",
              "\n",
              "    .colab-df-convert {\n",
              "      background-color: #E8F0FE;\n",
              "      border: none;\n",
              "      border-radius: 50%;\n",
              "      cursor: pointer;\n",
              "      display: none;\n",
              "      fill: #1967D2;\n",
              "      height: 32px;\n",
              "      padding: 0 0 0 0;\n",
              "      width: 32px;\n",
              "    }\n",
              "\n",
              "    .colab-df-convert:hover {\n",
              "      background-color: #E2EBFA;\n",
              "      box-shadow: 0px 1px 2px rgba(60, 64, 67, 0.3), 0px 1px 3px 1px rgba(60, 64, 67, 0.15);\n",
              "      fill: #174EA6;\n",
              "    }\n",
              "\n",
              "    .colab-df-buttons div {\n",
              "      margin-bottom: 4px;\n",
              "    }\n",
              "\n",
              "    [theme=dark] .colab-df-convert {\n",
              "      background-color: #3B4455;\n",
              "      fill: #D2E3FC;\n",
              "    }\n",
              "\n",
              "    [theme=dark] .colab-df-convert:hover {\n",
              "      background-color: #434B5C;\n",
              "      box-shadow: 0px 1px 3px 1px rgba(0, 0, 0, 0.15);\n",
              "      filter: drop-shadow(0px 1px 2px rgba(0, 0, 0, 0.3));\n",
              "      fill: #FFFFFF;\n",
              "    }\n",
              "  </style>\n",
              "\n",
              "    <script>\n",
              "      const buttonEl =\n",
              "        document.querySelector('#df-18212da7-cc0e-4774-bc4e-311ec4976f04 button.colab-df-convert');\n",
              "      buttonEl.style.display =\n",
              "        google.colab.kernel.accessAllowed ? 'block' : 'none';\n",
              "\n",
              "      async function convertToInteractive(key) {\n",
              "        const element = document.querySelector('#df-18212da7-cc0e-4774-bc4e-311ec4976f04');\n",
              "        const dataTable =\n",
              "          await google.colab.kernel.invokeFunction('convertToInteractive',\n",
              "                                                    [key], {});\n",
              "        if (!dataTable) return;\n",
              "\n",
              "        const docLinkHtml = 'Like what you see? Visit the ' +\n",
              "          '<a target=\"_blank\" href=https://colab.research.google.com/notebooks/data_table.ipynb>data table notebook</a>'\n",
              "          + ' to learn more about interactive tables.';\n",
              "        element.innerHTML = '';\n",
              "        dataTable['output_type'] = 'display_data';\n",
              "        await google.colab.output.renderOutput(dataTable, element);\n",
              "        const docLink = document.createElement('div');\n",
              "        docLink.innerHTML = docLinkHtml;\n",
              "        element.appendChild(docLink);\n",
              "      }\n",
              "    </script>\n",
              "  </div>\n",
              "\n",
              "\n",
              "<div id=\"df-50bffa5a-f181-40a4-ba0d-5b4c8e951418\">\n",
              "  <button class=\"colab-df-quickchart\" onclick=\"quickchart('df-50bffa5a-f181-40a4-ba0d-5b4c8e951418')\"\n",
              "            title=\"Suggest charts\"\n",
              "            style=\"display:none;\">\n",
              "\n",
              "<svg xmlns=\"http://www.w3.org/2000/svg\" height=\"24px\"viewBox=\"0 0 24 24\"\n",
              "     width=\"24px\">\n",
              "    <g>\n",
              "        <path d=\"M19 3H5c-1.1 0-2 .9-2 2v14c0 1.1.9 2 2 2h14c1.1 0 2-.9 2-2V5c0-1.1-.9-2-2-2zM9 17H7v-7h2v7zm4 0h-2V7h2v10zm4 0h-2v-4h2v4z\"/>\n",
              "    </g>\n",
              "</svg>\n",
              "  </button>\n",
              "\n",
              "<style>\n",
              "  .colab-df-quickchart {\n",
              "      --bg-color: #E8F0FE;\n",
              "      --fill-color: #1967D2;\n",
              "      --hover-bg-color: #E2EBFA;\n",
              "      --hover-fill-color: #174EA6;\n",
              "      --disabled-fill-color: #AAA;\n",
              "      --disabled-bg-color: #DDD;\n",
              "  }\n",
              "\n",
              "  [theme=dark] .colab-df-quickchart {\n",
              "      --bg-color: #3B4455;\n",
              "      --fill-color: #D2E3FC;\n",
              "      --hover-bg-color: #434B5C;\n",
              "      --hover-fill-color: #FFFFFF;\n",
              "      --disabled-bg-color: #3B4455;\n",
              "      --disabled-fill-color: #666;\n",
              "  }\n",
              "\n",
              "  .colab-df-quickchart {\n",
              "    background-color: var(--bg-color);\n",
              "    border: none;\n",
              "    border-radius: 50%;\n",
              "    cursor: pointer;\n",
              "    display: none;\n",
              "    fill: var(--fill-color);\n",
              "    height: 32px;\n",
              "    padding: 0;\n",
              "    width: 32px;\n",
              "  }\n",
              "\n",
              "  .colab-df-quickchart:hover {\n",
              "    background-color: var(--hover-bg-color);\n",
              "    box-shadow: 0 1px 2px rgba(60, 64, 67, 0.3), 0 1px 3px 1px rgba(60, 64, 67, 0.15);\n",
              "    fill: var(--button-hover-fill-color);\n",
              "  }\n",
              "\n",
              "  .colab-df-quickchart-complete:disabled,\n",
              "  .colab-df-quickchart-complete:disabled:hover {\n",
              "    background-color: var(--disabled-bg-color);\n",
              "    fill: var(--disabled-fill-color);\n",
              "    box-shadow: none;\n",
              "  }\n",
              "\n",
              "  .colab-df-spinner {\n",
              "    border: 2px solid var(--fill-color);\n",
              "    border-color: transparent;\n",
              "    border-bottom-color: var(--fill-color);\n",
              "    animation:\n",
              "      spin 1s steps(1) infinite;\n",
              "  }\n",
              "\n",
              "  @keyframes spin {\n",
              "    0% {\n",
              "      border-color: transparent;\n",
              "      border-bottom-color: var(--fill-color);\n",
              "      border-left-color: var(--fill-color);\n",
              "    }\n",
              "    20% {\n",
              "      border-color: transparent;\n",
              "      border-left-color: var(--fill-color);\n",
              "      border-top-color: var(--fill-color);\n",
              "    }\n",
              "    30% {\n",
              "      border-color: transparent;\n",
              "      border-left-color: var(--fill-color);\n",
              "      border-top-color: var(--fill-color);\n",
              "      border-right-color: var(--fill-color);\n",
              "    }\n",
              "    40% {\n",
              "      border-color: transparent;\n",
              "      border-right-color: var(--fill-color);\n",
              "      border-top-color: var(--fill-color);\n",
              "    }\n",
              "    60% {\n",
              "      border-color: transparent;\n",
              "      border-right-color: var(--fill-color);\n",
              "    }\n",
              "    80% {\n",
              "      border-color: transparent;\n",
              "      border-right-color: var(--fill-color);\n",
              "      border-bottom-color: var(--fill-color);\n",
              "    }\n",
              "    90% {\n",
              "      border-color: transparent;\n",
              "      border-bottom-color: var(--fill-color);\n",
              "    }\n",
              "  }\n",
              "</style>\n",
              "\n",
              "  <script>\n",
              "    async function quickchart(key) {\n",
              "      const quickchartButtonEl =\n",
              "        document.querySelector('#' + key + ' button');\n",
              "      quickchartButtonEl.disabled = true;  // To prevent multiple clicks.\n",
              "      quickchartButtonEl.classList.add('colab-df-spinner');\n",
              "      try {\n",
              "        const charts = await google.colab.kernel.invokeFunction(\n",
              "            'suggestCharts', [key], {});\n",
              "      } catch (error) {\n",
              "        console.error('Error during call to suggestCharts:', error);\n",
              "      }\n",
              "      quickchartButtonEl.classList.remove('colab-df-spinner');\n",
              "      quickchartButtonEl.classList.add('colab-df-quickchart-complete');\n",
              "    }\n",
              "    (() => {\n",
              "      let quickchartButtonEl =\n",
              "        document.querySelector('#df-50bffa5a-f181-40a4-ba0d-5b4c8e951418 button');\n",
              "      quickchartButtonEl.style.display =\n",
              "        google.colab.kernel.accessAllowed ? 'block' : 'none';\n",
              "    })();\n",
              "  </script>\n",
              "</div>\n",
              "\n",
              "    </div>\n",
              "  </div>\n"
            ],
            "application/vnd.google.colaboratory.intrinsic+json": {
              "type": "dataframe",
              "variable_name": "df_final_sincolumnas",
              "summary": "{\n  \"name\": \"df_final_sincolumnas\",\n  \"rows\": 23150,\n  \"fields\": [\n    {\n      \"column\": \"Title\",\n      \"properties\": {\n        \"dtype\": \"category\",\n        \"num_unique_values\": 1720,\n        \"samples\": [\n          \"Scary Stories to Tell in the Dark\",\n          \"Constitutional Law (Emanuel Law Outline)\",\n          \"From Potter's Field\"\n        ],\n        \"semantic_type\": \"\",\n        \"description\": \"\"\n      }\n    },\n    {\n      \"column\": \"review/score\",\n      \"properties\": {\n        \"dtype\": \"number\",\n        \"std\": 1.2003330635938283,\n        \"min\": 1.0,\n        \"max\": 5.0,\n        \"num_unique_values\": 5,\n        \"samples\": [\n          5.0,\n          2.0,\n          1.0\n        ],\n        \"semantic_type\": \"\",\n        \"description\": \"\"\n      }\n    },\n    {\n      \"column\": \"review/summary\",\n      \"properties\": {\n        \"dtype\": \"string\",\n        \"num_unique_values\": 19994,\n        \"samples\": [\n          \"a perfect gift for annoyingly cheerful friends\",\n          \"So boring\",\n          \"Tess: Hardy's tragic heroine.\"\n        ],\n        \"semantic_type\": \"\",\n        \"description\": \"\"\n      }\n    },\n    {\n      \"column\": \"review/text\",\n      \"properties\": {\n        \"dtype\": \"string\",\n        \"num_unique_values\": 22168,\n        \"samples\": [\n          \"Oftentimes, lengthy and detailed novels suffer from boring plots. But ONE HUNDRED YEARS OF SOLITUDE is anything but boring. Once you opened it, you will become unaware of the time reading it. This book offers hundred reasons for you to wish it will not end. However, due to my incompetence to capture the thought of the genius behind this book, I can only give you a few of those reasons.1. Characters are vividly described. Each was carefully introduced by Garcia-Marquez in a way unforgettable to the reader--Real emotions, distinct personalities, and unique but intertwined experiences.2. Garcia Marquez tried to create a storyline of impossibilities to be unexpectedly believable. Myths, taboos and sins are included. But instead of defeating the popularity of the novel, those factors added spice, magic and uniqueness. Never this novel will fall under mediocrity.3. The author was able to give a balance in describing human and natural aspects. He succeeded in creating a psychological standpoint of his own and polishing this aspect using environmental descriptions. You will encounter statements digging to the mind and heart of the character. On the other hand, you will be impressed by the details he gave to the setting wherein the characters are amazingly connected with. For example, he gave a detailed description of the Buendia's house and at the same time captured the happenings of its dwellers.4. Symbols are proliferated in the novel. Through this, Garcia-Marquez gave the readers an opportunity to explore the story themselves, to think what caused this to happen and what happens next.5. The story is a web of emotions. It is like a roller-coaster ride of feelings (sadness, excitement, love, discoveries, happiness, and extreme solitude).ONE HUNDRED YEARS OF SOLITUDE is surely a novel worth the Nobel Prize. It was able to capture hundred years of the lives of the Buendia family and is now sharing it to millions of readers of our time.\",\n          \"I read this book long time ago. I really liked the style, besides the story line, that is very good. The author takes you from one situation to the next with deep symbolism I completely uderstand. It is an intense read, and it is funny one.\",\n          \"Author Sandra Benitez wraps readers up tightly in the tale of a poor family and a rich family tied to El Salvador's coffee plantations, but don't get too cozy: the terrors imposed by gov't forces as well as the guerrilla soldiers lurks somewhere on the pages ahead. The story follows pairs of mothers and daughters caught between passion and politics.The author grew up in the 50s in El Salvador and was a witness to the heartbreak of illiterate women who left villages and families behind to find work in the capital. Then, in the 70s, as friends and family became targets of the growing revolution, she experienced firsthand the repercussions of oppression. This is a powerful book, one that will stay with readers long after they've turned the last page and turned off the reading lamp.\"\n        ],\n        \"semantic_type\": \"\",\n        \"description\": \"\"\n      }\n    },\n    {\n      \"column\": \"description\",\n      \"properties\": {\n        \"dtype\": \"category\",\n        \"num_unique_values\": 1241,\n        \"samples\": [\n          \"\\\"The refreshing adventures of a woman who at the age of eighty found a new life in the wilds of the Siskiyou Mountains near Happy Camp, California.\\\" (book jacket).\",\n          \"A \\u201cbrilliant\\u201d look at America\\u2019s sixteenth president by the New York Times\\u2013bestselling, Pulitzer Prize\\u2013winning author of Lincoln (American Historical Review). First published in 1956 and revised and updated for the twenty-first century, Lincoln Reconsidered is a masterpiece of Civil War scholarship. In a dozen eloquent, witty, and incisive essays, the author of the definitive biography of Abraham Lincoln offers a fresh perspective on topics previously shrouded in myth and hagiography and brings the president\\u2019s tough-mindedness, strategic acumen, and political flexibility into sharp focus. From Lincoln\\u2019s patchwork education to his contradictory interpretations of the Constitution and the legacy of the Founding Fathers, David Herbert Donald reveals the legal mind behind the legend of the Great Emancipator. \\u201cToward a Reconsideration of the Abolitionists\\u201d sheds new light on the radicalism of the antislavery movement, while \\u201cHerndon and Mary Lincoln\\u201d brilliantly characterizes the complicated relationship between two of the president\\u2019s closest companions. \\u201cGetting Right with Lincoln\\u201d and \\u201cThe Folklore Lincoln\\u201d draw on the methods of cultural anthropology to produce a provocative analysis of Lincoln as symbol. No historian has done more to enhance our understanding of Lincoln\\u2019s presidency and the causes and effects of the Civil War than Donald. Lincoln Reconsidered is an entertaining and accessible introduction to his work and a must-read for every student of American history.\",\n          \"Ever run into someone who is negative toward Network Marketing? Then this book is for you! The purpose of this book is to help spouses of network marketers to understand the industry and the reasons their spouse is involved. It will also assist people in the recruiting process when encountering the occasional \\\"negative spouse.\\\" Network marketing can be a very rewarding lifestyle, based on personal experience, only if both spouses are in agreement and have a good understanding of others positions in their network marketing business. Benefits to Discover: * A better understanding of the network marketinb business *Understanding of why your spouse is involved *How just a little support can make a huge difference in your spouses' success *How to build a stronger relationship with your spouse and family *Understanding personal growth and how it can change your life *How to turn negatives into postives *How to dream again and truly realize those dreams\"\n        ],\n        \"semantic_type\": \"\",\n        \"description\": \"\"\n      }\n    },\n    {\n      \"column\": \"authors\",\n      \"properties\": {\n        \"dtype\": \"category\",\n        \"num_unique_values\": 1547,\n        \"samples\": [\n          \"['National Portrait Gallery']\",\n          \"['Ross Hair', 'Thomas Ruys Smith']\",\n          \"['Cliff Kalibjian']\"\n        ],\n        \"semantic_type\": \"\",\n        \"description\": \"\"\n      }\n    },\n    {\n      \"column\": \"publisher\",\n      \"properties\": {\n        \"dtype\": \"category\",\n        \"num_unique_values\": 704,\n        \"samples\": [\n          \"Penguin Books\",\n          \"Berkley\",\n          \"SAP PRESS\"\n        ],\n        \"semantic_type\": \"\",\n        \"description\": \"\"\n      }\n    },\n    {\n      \"column\": \"publishedDate\",\n      \"properties\": {\n        \"dtype\": \"category\",\n        \"num_unique_values\": 863,\n        \"samples\": [\n          \"1996-09-20\",\n          \"1992-02\",\n          \"1963\"\n        ],\n        \"semantic_type\": \"\",\n        \"description\": \"\"\n      }\n    },\n    {\n      \"column\": \"categories\",\n      \"properties\": {\n        \"dtype\": \"category\",\n        \"num_unique_values\": 354,\n        \"samples\": [\n          \"['Devotional literature']\",\n          \"['Performing Arts']\",\n          \"['Yiddish language']\"\n        ],\n        \"semantic_type\": \"\",\n        \"description\": \"\"\n      }\n    }\n  ]\n}"
            }
          },
          "metadata": {},
          "execution_count": 12
        }
      ]
    },
    {
      "cell_type": "code",
      "source": [
        "df_final_sincolumnas[[\"description\", \"authors\",\"publisher\",\"categories\",\"publishedDate\"]] = df_final_sincolumnas.groupby(\"Title\")[[\"description\", \"authors\",\"publisher\",\"categories\",\"publishedDate\"]].transform(lambda x: x.fillna(method='ffill').fillna(method='bfill'))\n",
        "df_final_sincolumnas = df_final_sincolumnas.dropna()\n"
      ],
      "metadata": {
        "colab": {
          "base_uri": "https://localhost:8080/"
        },
        "id": "IgqcGeq91SuO",
        "outputId": "b3830dff-fcb5-4be7-fe43-d13b977737ae"
      },
      "execution_count": 14,
      "outputs": [
        {
          "output_type": "stream",
          "name": "stderr",
          "text": [
            "<ipython-input-14-074d1afd7c6b>:1: FutureWarning: Series.fillna with 'method' is deprecated and will raise in a future version. Use obj.ffill() or obj.bfill() instead.\n",
            "  df_final_sincolumnas[[\"description\", \"authors\",\"publisher\",\"categories\",\"publishedDate\"]] = df_final_sincolumnas.groupby(\"Title\")[[\"description\", \"authors\",\"publisher\",\"categories\",\"publishedDate\"]].transform(lambda x: x.fillna(method='ffill').fillna(method='bfill'))\n",
            "<ipython-input-14-074d1afd7c6b>:1: FutureWarning: Downcasting object dtype arrays on .fillna, .ffill, .bfill is deprecated and will change in a future version. Call result.infer_objects(copy=False) instead. To opt-in to the future behavior, set `pd.set_option('future.no_silent_downcasting', True)`\n",
            "  df_final_sincolumnas[[\"description\", \"authors\",\"publisher\",\"categories\",\"publishedDate\"]] = df_final_sincolumnas.groupby(\"Title\")[[\"description\", \"authors\",\"publisher\",\"categories\",\"publishedDate\"]].transform(lambda x: x.fillna(method='ffill').fillna(method='bfill'))\n",
            "<ipython-input-14-074d1afd7c6b>:1: FutureWarning: DataFrame.fillna with 'method' is deprecated and will raise in a future version. Use obj.ffill() or obj.bfill() instead.\n",
            "  df_final_sincolumnas[[\"description\", \"authors\",\"publisher\",\"categories\",\"publishedDate\"]] = df_final_sincolumnas.groupby(\"Title\")[[\"description\", \"authors\",\"publisher\",\"categories\",\"publishedDate\"]].transform(lambda x: x.fillna(method='ffill').fillna(method='bfill'))\n"
          ]
        }
      ]
    },
    {
      "cell_type": "code",
      "source": [
        "df_final_sincolumnas.to_csv(\"/content/drive/MyDrive/Datos/contenido_zip/base_combinada_limpia.csv\", index=False)"
      ],
      "metadata": {
        "id": "J3Ovhx0Vkw3N"
      },
      "execution_count": 18,
      "outputs": []
    },
    {
      "cell_type": "markdown",
      "source": [
        "## Observación balanceo de datos"
      ],
      "metadata": {
        "id": "Zl2UQJUSs2VN"
      }
    },
    {
      "cell_type": "code",
      "source": [
        "# Contar NaN en cada columna\n",
        "nan_counts = df_final_sincolumnas.isna().sum()\n",
        "\n",
        "# Mostrar resultado\n",
        "print(nan_counts)"
      ],
      "metadata": {
        "colab": {
          "base_uri": "https://localhost:8080/"
        },
        "id": "GfoMvfs-iTSg",
        "outputId": "3253ef0c-34d0-4f83-901f-4d48545182a5"
      },
      "execution_count": 15,
      "outputs": [
        {
          "output_type": "stream",
          "name": "stdout",
          "text": [
            "Title             0\n",
            "review/score      0\n",
            "review/summary    0\n",
            "review/text       0\n",
            "description       0\n",
            "authors           0\n",
            "publisher         0\n",
            "publishedDate     0\n",
            "categories        0\n",
            "dtype: int64\n"
          ]
        }
      ]
    },
    {
      "cell_type": "code",
      "source": [
        "# Contar ocurrencias de los valores en una columna\n",
        "conteo_valores = df_final_sincolumnas[\"Title\"].value_counts()\n",
        "\n",
        "# Mostrar el resultado\n",
        "print(conteo_valores)"
      ],
      "metadata": {
        "colab": {
          "base_uri": "https://localhost:8080/"
        },
        "id": "TZvxNSfRs5wd",
        "outputId": "08e0e503-bb52-4602-fe19-f2f55ad91cdb"
      },
      "execution_count": 16,
      "outputs": [
        {
          "output_type": "stream",
          "name": "stdout",
          "text": [
            "Title\n",
            "1984                                                                                                                                                                                                1895\n",
            "Foundation                                                                                                                                                                                          1214\n",
            "One Hundred Years of Solitude                                                                                                                                                                        907\n",
            "Economics in one lesson                                                                                                                                                                              330\n",
            "Hound of the Baskervilles (Lrs Large Print Heritage Series)                                                                                                                                          298\n",
            "                                                                                                                                                                                                    ... \n",
            "Through Many Windows                                                                                                                                                                                   1\n",
            "Insight Guide Caribbean (Insight Guides Caribbean)                                                                                                                                                     1\n",
            "Street Bikes                                                                                                                                                                                           1\n",
            "The Lower Depths and Other Plays                                                                                                                                                                       1\n",
            "An Antebellum Plantation Household: Including the South Carolina Low Country Receipts and Remedies of Emily Wharton Sinkler with Eighty-Two Newly Dis (Women's Diaries and Letters of the South)       1\n",
            "Name: count, Length: 1023, dtype: int64\n"
          ]
        }
      ]
    },
    {
      "cell_type": "code",
      "source": [
        "conteo_estrellas = df_final_sincolumnas[\"review/score\"].value_counts().sort_index()\n",
        "print(conteo_estrellas)"
      ],
      "metadata": {
        "id": "3dIV10WMklLc",
        "outputId": "483dbd39-0de6-4eb9-9fe8-9202cc800604",
        "colab": {
          "base_uri": "https://localhost:8080/"
        }
      },
      "execution_count": 17,
      "outputs": [
        {
          "output_type": "stream",
          "name": "stdout",
          "text": [
            "review/score\n",
            "1.0    1014\n",
            "2.0     784\n",
            "3.0    1128\n",
            "4.0    2875\n",
            "5.0    9524\n",
            "Name: count, dtype: int64\n"
          ]
        }
      ]
    },
    {
      "cell_type": "code",
      "source": [
        "conteo_estrellas_por_titulo = df_final_sincolumnas.groupby(\"Title\")[\"review/score\"].value_counts().unstack(fill_value=0)\n",
        "print(conteo_estrellas_por_titulo)\n"
      ],
      "metadata": {
        "id": "YtMXIPnClGe9",
        "outputId": "8cc7da2d-bdb9-4a4b-a16e-baadf64a1f4f",
        "colab": {
          "base_uri": "https://localhost:8080/"
        }
      },
      "execution_count": 19,
      "outputs": [
        {
          "output_type": "stream",
          "name": "stdout",
          "text": [
            "review/score                                        1.0  2.0  3.0  4.0   5.0\n",
            "Title                                                                       \n",
            "\"In the Days of Serfdom\" and Other Stories (Pin...    0    0    0    1     0\n",
            "1,999 Facts About Blacks: A Sourcebook of Afric...    0    0    0    0     4\n",
            "103 Great Poems: A Dual-Language Book (Dover Du...    0    0    1    2     0\n",
            "1984                                                 54   39  100  294  1408\n",
            "3ds max 4 Bible                                       0    0    0    3     7\n",
            "...                                                 ...  ...  ...  ...   ...\n",
            "Your Signature Work: Creating Excellence and In...    0    0    0    0     9\n",
            "ZOMBIE LOVER (XANTH)                                  2    3    6    3    18\n",
            "Zainabu's African Cookbook with Food and Stories      0    0    0    0     1\n",
            "albert einstein, young thinker [ Childhood of F...    0    1    0    0     4\n",
            "the Greengage Summer                                  1    1    0    1    11\n",
            "\n",
            "[1023 rows x 5 columns]\n"
          ]
        }
      ]
    },
    {
      "cell_type": "code",
      "source": [
        "# Contar cuántas veces aparece cada título\n",
        "conteo_titulos = df_final_sincolumnas[\"Title\"].value_counts()\n",
        "\n",
        "# Filtrar solo los títulos que aparecen más de 5 veces\n",
        "titulos_validos = conteo_titulos[conteo_titulos > 3].index\n",
        "\n",
        "# Filtrar el DataFrame original\n",
        "df_final_sincolumnas = df_final_sincolumnas[df_final_sincolumnas[\"Title\"].isin(titulos_validos)]\n",
        "df_final_sincolumnas.to_csv(\"/content/drive/MyDrive/Datos/contenido_zip/base_combinada_limpia.csv\", index=False)\n"
      ],
      "metadata": {
        "id": "HxTpNNpNluEj"
      },
      "execution_count": 24,
      "outputs": []
    },
    {
      "cell_type": "code",
      "source": [
        "# Contar ocurrencias de los valores en una columna\n",
        "conteo_valores = df_final_sincolumnas[\"Title\"].value_counts()\n",
        "\n",
        "# Mostrar el resultado\n",
        "print(conteo_valores)"
      ],
      "metadata": {
        "colab": {
          "base_uri": "https://localhost:8080/"
        },
        "outputId": "97582950-28e6-4c6f-b590-7146a0332e9e",
        "id": "9y3vXnhil47m"
      },
      "execution_count": 25,
      "outputs": [
        {
          "output_type": "stream",
          "name": "stdout",
          "text": [
            "Title\n",
            "1984                                                                        1895\n",
            "Foundation                                                                  1214\n",
            "One Hundred Years of Solitude                                                907\n",
            "Economics in one lesson                                                      330\n",
            "Hound of the Baskervilles (Lrs Large Print Heritage Series)                  298\n",
            "                                                                            ... \n",
            "The Dynamics Of Defeat: The Vietnam War In Hau Nghia Province                  6\n",
            "The Cross Stitch Motif Bible: 1000 Motifs in Easy-to-Follow Color Charts       6\n",
            "The Collector's Edition of Victorian Erotica                                   6\n",
            "Evidence Never Lies                                                            6\n",
            "Partial Seizure Disorders: Help for Patients and Families                      6\n",
            "Name: count, Length: 360, dtype: int64\n"
          ]
        }
      ]
    },
    {
      "cell_type": "code",
      "source": [],
      "metadata": {
        "id": "YuLVfbolnJY7"
      },
      "execution_count": null,
      "outputs": []
    }
  ]
}
{
  "nbformat": 4,
  "nbformat_minor": 0,
  "metadata": {
    "colab": {
      "provenance": [],
      "toc_visible": true,
      "authorship_tag": "ABX9TyOwDqtgbdx4osr4WvMpc9oh",
      "include_colab_link": true
    },
    "kernelspec": {
      "name": "python3",
      "display_name": "Python 3"
    },
    "language_info": {
      "name": "python"
    }
  },
  "cells": [
    {
      "cell_type": "markdown",
      "metadata": {
        "id": "view-in-github",
        "colab_type": "text"
      },
      "source": [
        "<a href=\"https://colab.research.google.com/github/EUtrilla2002/ProyectoDatos/blob/main/ProyectoDatos.ipynb\" target=\"_parent\"><img src=\"https://colab.research.google.com/assets/colab-badge.svg\" alt=\"Open In Colab\"/></a>"
      ]
    },
    {
      "cell_type": "markdown",
      "source": [
        "## Análisis de datos"
      ],
      "metadata": {
        "id": "ud0eRRZghzgG"
      }
    },
    {
      "cell_type": "code",
      "execution_count": null,
      "metadata": {
        "id": "M9p5Fd97VQDL"
      },
      "outputs": [],
      "source": [
        "import zipfile\n",
        "import os\n",
        "\n",
        "zip_path = \"/content/archive.zip\"  # Reemplaza con el nombre de tu archivo ZIP\n",
        "extract_path = \"/content/contenido_zip\"  # Carpeta donde se extraerán los archivos\n",
        "\n",
        "# Crear carpeta si no existe\n",
        "os.makedirs(extract_path, exist_ok=True)\n",
        "\n",
        "# Descomprimir el ZIP\n",
        "with zipfile.ZipFile(zip_path, 'r') as zip_ref:\n",
        "    zip_ref.extractall(extract_path)\n",
        "\n",
        "print(\"Descompresión completa.\")"
      ]
    },
    {
      "cell_type": "markdown",
      "source": [
        "## Bases de datos"
      ],
      "metadata": {
        "id": "ppcINLsth7a8"
      }
    },
    {
      "cell_type": "code",
      "source": [
        "import pandas as pd\n",
        "\n",
        "# Cargar los datasets (pueden estar en CSV, Excel, etc.)\n",
        "df1 = pd.read_csv(\"/content/contenido_zip/Books_rating.csv\")  # Primera base de datos\n",
        "df2 = pd.read_csv(\"/content/contenido_zip/books_data.csv\")  # Segunda base de datos\n",
        "\n",
        "# Ver los primeros registros (opcional)\n",
        "print(df1.head())\n",
        "print(df2.head())\n"
      ],
      "metadata": {
        "id": "TCB0WbK_h97v"
      },
      "execution_count": null,
      "outputs": []
    },
    {
      "cell_type": "code",
      "source": [
        "# Unir las bases de datos por la columna \"Título\"\n",
        "df_final = pd.merge(df1, df2, on=\"Título\", how=\"inner\")  # \"inner\" solo mantiene coincidencias\n",
        "\n",
        "# Guardar el resultado en un nuevo archivo CSV\n",
        "df_final.to_csv(\"base_combinada.csv\", index=False)\n",
        "\n",
        "print(\"Bases de datos unidas correctamente.\")\n",
        "print(df_final.head())  # Mostrar resultado"
      ],
      "metadata": {
        "id": "WS4HiL05iKau"
      },
      "execution_count": null,
      "outputs": []
    },
    {
      "cell_type": "markdown",
      "source": [
        "## Eliminación de columnas"
      ],
      "metadata": {
        "id": "KYI1FNsdiPeL"
      }
    },
    {
      "cell_type": "code",
      "source": [
        "# Contar NaN en cada columna\n",
        "nan_counts = df_final.isna().sum()\n",
        "\n",
        "# Mostrar resultado\n",
        "print(nan_counts)"
      ],
      "metadata": {
        "id": "GfoMvfs-iTSg"
      },
      "execution_count": null,
      "outputs": []
    },
    {
      "cell_type": "code",
      "source": [
        "df_final_sincolumnas = df_final.drop(columns=[\"NombreColumna\"])"
      ],
      "metadata": {
        "id": "mFLvw1dZigzV"
      },
      "execution_count": null,
      "outputs": []
    }
  ]
}